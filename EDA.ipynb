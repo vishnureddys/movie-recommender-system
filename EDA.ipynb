{
  "nbformat": 4,
  "nbformat_minor": 0,
  "metadata": {
    "kernelspec": {
      "display_name": "Python 3",
      "language": "python",
      "name": "python3"
    },
    "language_info": {
      "codemirror_mode": {
        "name": "ipython",
        "version": 3
      },
      "file_extension": ".py",
      "mimetype": "text/x-python",
      "name": "python",
      "nbconvert_exporter": "python",
      "pygments_lexer": "ipython3",
      "version": "3.8.6"
    },
    "colab": {
      "name": "EDA.ipynb",
      "provenance": [],
      "include_colab_link": true
    }
  },
  "cells": [
    {
      "cell_type": "markdown",
      "metadata": {
        "id": "view-in-github",
        "colab_type": "text"
      },
      "source": [
        "<a href=\"https://colab.research.google.com/github/pranav-nambiar/movie-recommender-system/blob/main/EDA.ipynb\" target=\"_parent\"><img src=\"https://colab.research.google.com/assets/colab-badge.svg\" alt=\"Open In Colab\"/></a>"
      ]
    },
    {
      "cell_type": "markdown",
      "metadata": {
        "id": "onRtLWjSWOCw"
      },
      "source": [
        "# Setup"
      ]
    },
    {
      "cell_type": "code",
      "metadata": {
        "id": "bSD4oAArWOCw"
      },
      "source": [
        "import os"
      ],
      "execution_count": 70,
      "outputs": []
    },
    {
      "cell_type": "code",
      "metadata": {
        "id": "_8zpttlnWadL"
      },
      "source": [
        "!apt-get install openjdk-8-jdk-headless -qq > /dev/null\n",
        "!wget -q https://downloads.apache.org/spark/spark-2.4.7/spark-2.4.7-bin-hadoop2.7.tgz\n",
        "!tar xf spark-2.4.7-bin-hadoop2.7.tgz\n",
        "!pip install -q Findspark\n",
        "!update-alternatives --set java /usr/lib/jvm/java-8-openjdk-amd64/jre/bin/java\n",
        "os.environ[\"JAVA_HOME\"] = \"/usr/lib/jvm/java-8-openjdk-amd64\"\n",
        "os.environ[\"SPARK_HOME\"] = \"/content/spark-2.4.7-bin-hadoop2.7\""
      ],
      "execution_count": 71,
      "outputs": []
    },
    {
      "cell_type": "code",
      "metadata": {
        "colab": {
          "base_uri": "https://localhost:8080/",
          "height": 35
        },
        "id": "xujvMZ1NWOCw",
        "outputId": "726d6bb9-82cd-4a41-d52c-51f1707661ee"
      },
      "source": [
        "os.environ[\"JAVA_HOME\"]"
      ],
      "execution_count": 72,
      "outputs": [
        {
          "output_type": "execute_result",
          "data": {
            "application/vnd.google.colaboratory.intrinsic+json": {
              "type": "string"
            },
            "text/plain": [
              "'/usr/lib/jvm/java-8-openjdk-amd64'"
            ]
          },
          "metadata": {
            "tags": []
          },
          "execution_count": 72
        }
      ]
    },
    {
      "cell_type": "code",
      "metadata": {
        "colab": {
          "base_uri": "https://localhost:8080/",
          "height": 35
        },
        "id": "pQ6qt63hWOCw",
        "outputId": "2910fa10-da73-4115-91b1-ac190c1f13f9"
      },
      "source": [
        "os.environ[\"SPARK_HOME\"]"
      ],
      "execution_count": 73,
      "outputs": [
        {
          "output_type": "execute_result",
          "data": {
            "application/vnd.google.colaboratory.intrinsic+json": {
              "type": "string"
            },
            "text/plain": [
              "'/content/spark-2.4.7-bin-hadoop2.7'"
            ]
          },
          "metadata": {
            "tags": []
          },
          "execution_count": 73
        }
      ]
    },
    {
      "cell_type": "markdown",
      "metadata": {
        "id": "dhZW8215WOCw"
      },
      "source": [
        "As we can see above, Java and Spark are configured properly and so we can now go ahead and start loading data."
      ]
    },
    {
      "cell_type": "code",
      "metadata": {
        "id": "mnVlnJBPWOCw"
      },
      "source": [
        "import findspark\n",
        "findspark.init()"
      ],
      "execution_count": 74,
      "outputs": []
    },
    {
      "cell_type": "code",
      "metadata": {
        "id": "uqopVLZdWOCw"
      },
      "source": [
        "#Start Apache Spark session and context\n",
        "import pyspark\n",
        "from pyspark.sql import SQLContext"
      ],
      "execution_count": 75,
      "outputs": []
    },
    {
      "cell_type": "code",
      "metadata": {
        "id": "YkOzdhOnWOCw"
      },
      "source": [
        "from pyspark.sql import SparkSession\n",
        "spark = SparkSession.builder.appName('BigDataProject').getOrCreate()"
      ],
      "execution_count": 76,
      "outputs": []
    },
    {
      "cell_type": "markdown",
      "metadata": {
        "id": "o6FFH36LWOCw"
      },
      "source": [
        "# Reading the data"
      ]
    },
    {
      "cell_type": "code",
      "metadata": {
        "colab": {
          "base_uri": "https://localhost:8080/"
        },
        "id": "h0GUnEp_XYtx",
        "outputId": "7295855e-b438-4580-b316-8af3a61d49bc"
      },
      "source": [
        "from google.colab import drive\n",
        "drive.mount('/content/drive');"
      ],
      "execution_count": 77,
      "outputs": [
        {
          "output_type": "stream",
          "text": [
            "Drive already mounted at /content/drive; to attempt to forcibly remount, call drive.mount(\"/content/drive\", force_remount=True).\n"
          ],
          "name": "stdout"
        }
      ]
    },
    {
      "cell_type": "code",
      "metadata": {
        "colab": {
          "base_uri": "https://localhost:8080/"
        },
        "id": "koHjCtCnXiYX",
        "outputId": "11c42a36-a18e-4023-9ba4-e88cf8dd14da"
      },
      "source": [
        "!ls \"drive/My Drive/Big_Data_Movie_Recommender\""
      ],
      "execution_count": 78,
      "outputs": [
        {
          "output_type": "stream",
          "text": [
            "Data  Results\n"
          ],
          "name": "stdout"
        }
      ]
    },
    {
      "cell_type": "code",
      "metadata": {
        "id": "z-x5lcFpXvAe"
      },
      "source": [
        "DATA_PATH = \"drive/My Drive/Big_Data_Movie_Recommender/Data\"\n",
        "RESULTS_PATH = \"drive/My Drive/Big_Data_Movie_Recommender/Results\""
      ],
      "execution_count": 79,
      "outputs": []
    },
    {
      "cell_type": "code",
      "metadata": {
        "colab": {
          "base_uri": "https://localhost:8080/"
        },
        "id": "41ku7JVwWOCw",
        "outputId": "47b95b76-61fe-4d19-c2d1-17b8620a3148"
      },
      "source": [
        "ratings = spark.read.option(\"header\", \"true\").csv(DATA_PATH+\"/ratings.csv\")\n",
        "ratings.show(5)"
      ],
      "execution_count": 80,
      "outputs": [
        {
          "output_type": "stream",
          "text": [
            "+------+-------+------+----------+\n",
            "|userId|movieId|rating| timestamp|\n",
            "+------+-------+------+----------+\n",
            "|     1|    296|   5.0|1147880044|\n",
            "|     1|    306|   3.5|1147868817|\n",
            "|     1|    307|   5.0|1147868828|\n",
            "|     1|    665|   5.0|1147878820|\n",
            "|     1|    899|   3.5|1147868510|\n",
            "+------+-------+------+----------+\n",
            "only showing top 5 rows\n",
            "\n"
          ],
          "name": "stdout"
        }
      ]
    },
    {
      "cell_type": "code",
      "metadata": {
        "colab": {
          "base_uri": "https://localhost:8080/"
        },
        "id": "WS7xxtffWOCw",
        "outputId": "918a7eaf-961a-4548-f061-b8ce8c61bb5d"
      },
      "source": [
        "movies = spark.read.option(\"header\", \"true\").csv(DATA_PATH+\"/movies.csv\")\n",
        "movies.show(5)"
      ],
      "execution_count": 81,
      "outputs": [
        {
          "output_type": "stream",
          "text": [
            "+-------+--------------------+--------------------+\n",
            "|movieId|               title|              genres|\n",
            "+-------+--------------------+--------------------+\n",
            "|      1|    Toy Story (1995)|Adventure|Animati...|\n",
            "|      2|      Jumanji (1995)|Adventure|Childre...|\n",
            "|      3|Grumpier Old Men ...|      Comedy|Romance|\n",
            "|      4|Waiting to Exhale...|Comedy|Drama|Romance|\n",
            "|      5|Father of the Bri...|              Comedy|\n",
            "+-------+--------------------+--------------------+\n",
            "only showing top 5 rows\n",
            "\n"
          ],
          "name": "stdout"
        }
      ]
    },
    {
      "cell_type": "markdown",
      "metadata": {
        "id": "nHdOOzZiWOCx"
      },
      "source": [
        "# The most popular Movies"
      ]
    },
    {
      "cell_type": "code",
      "metadata": {
        "id": "e2PvzdviWOCx"
      },
      "source": [
        "from pyspark.sql.functions import *\n",
        "\n",
        "most_popular = ratings\\\n",
        ".groupBy(\"movieId\")\\\n",
        ".agg(count(\"userId\"))\\\n",
        ".withColumnRenamed(\"count(userId)\", \"num_ratings\")\\\n",
        ".sort(desc(\"num_ratings\"))"
      ],
      "execution_count": 82,
      "outputs": []
    },
    {
      "cell_type": "code",
      "metadata": {
        "colab": {
          "base_uri": "https://localhost:8080/"
        },
        "id": "dKdQ8HjdWOCx",
        "outputId": "f9fc1c58-4bc9-4d49-d0ff-49ab380f6ac3"
      },
      "source": [
        "#To show the top 10 most popular movies.\n",
        "most_popular.show(10)"
      ],
      "execution_count": 83,
      "outputs": [
        {
          "output_type": "stream",
          "text": [
            "+-------+-----------+\n",
            "|movieId|num_ratings|\n",
            "+-------+-----------+\n",
            "|    356|      81491|\n",
            "|    318|      81482|\n",
            "|    296|      79672|\n",
            "|    593|      74127|\n",
            "|   2571|      72674|\n",
            "|    260|      68717|\n",
            "|    480|      64144|\n",
            "|    527|      60411|\n",
            "|    110|      59184|\n",
            "|   2959|      58773|\n",
            "+-------+-----------+\n",
            "only showing top 10 rows\n",
            "\n"
          ],
          "name": "stdout"
        }
      ]
    },
    {
      "cell_type": "markdown",
      "metadata": {
        "id": "WPPl8AdqWOCx"
      },
      "source": [
        "We can see only the movieId and the number of ratings. The name of the movie is contained in the movies.csv file. So we have to use that to display the name of the movie here."
      ]
    },
    {
      "cell_type": "code",
      "metadata": {
        "colab": {
          "base_uri": "https://localhost:8080/"
        },
        "id": "fp0zAPTHWOCx",
        "outputId": "fc46541a-c19e-4af7-cc19-47a3239bdb6a"
      },
      "source": [
        "#Showing the top 15 movies.\n",
        "most_popular_movies = most_popular.join(movies, [\"movieId\"])\n",
        "most_popular_movies = most_popular_movies \\\n",
        ".sort(desc(\"num_ratings\"))\n",
        "most_popular_movies.show(15)"
      ],
      "execution_count": 84,
      "outputs": [
        {
          "output_type": "stream",
          "text": [
            "+-------+-----------+--------------------+--------------------+\n",
            "|movieId|num_ratings|               title|              genres|\n",
            "+-------+-----------+--------------------+--------------------+\n",
            "|    356|      81491| Forrest Gump (1994)|Comedy|Drama|Roma...|\n",
            "|    318|      81482|Shawshank Redempt...|         Crime|Drama|\n",
            "|    296|      79672| Pulp Fiction (1994)|Comedy|Crime|Dram...|\n",
            "|    593|      74127|Silence of the La...|Crime|Horror|Thri...|\n",
            "|   2571|      72674|  Matrix, The (1999)|Action|Sci-Fi|Thr...|\n",
            "|    260|      68717|Star Wars: Episod...|Action|Adventure|...|\n",
            "|    480|      64144|Jurassic Park (1993)|Action|Adventure|...|\n",
            "|    527|      60411|Schindler's List ...|           Drama|War|\n",
            "|    110|      59184|   Braveheart (1995)|    Action|Drama|War|\n",
            "|   2959|      58773|   Fight Club (1999)|Action|Crime|Dram...|\n",
            "|    589|      57379|Terminator 2: Jud...|       Action|Sci-Fi|\n",
            "|   1196|      57361|Star Wars: Episod...|Action|Adventure|...|\n",
            "|      1|      57309|    Toy Story (1995)|Adventure|Animati...|\n",
            "|   4993|      55736|Lord of the Rings...|   Adventure|Fantasy|\n",
            "|     50|      55366|Usual Suspects, T...|Crime|Mystery|Thr...|\n",
            "+-------+-----------+--------------------+--------------------+\n",
            "only showing top 15 rows\n",
            "\n"
          ],
          "name": "stdout"
        }
      ]
    },
    {
      "cell_type": "markdown",
      "metadata": {
        "id": "r-JEcWnXWOCx"
      },
      "source": [
        "As we can see, most of the movies shown above are really popular and well known."
      ]
    },
    {
      "cell_type": "markdown",
      "metadata": {
        "id": "HXDw1z5yWOCx"
      },
      "source": [
        "# Top Rated Movies"
      ]
    },
    {
      "cell_type": "markdown",
      "metadata": {
        "id": "I_WZzaVNWOCx"
      },
      "source": [
        "If we just sort based on the ratings, we can get movies which have 5 starts but have very few ratings. See the example below."
      ]
    },
    {
      "cell_type": "code",
      "metadata": {
        "id": "4GSz886NWOCx"
      },
      "source": [
        "top_rated = ratings\\\n",
        ".groupBy(\"movieId\")\\\n",
        ".agg(avg(col(\"rating\")))\\\n",
        ".withColumnRenamed(\"avg(rating)\", \"avg_rating\")\\\n",
        ".sort(desc(\"avg_rating\"))"
      ],
      "execution_count": 85,
      "outputs": []
    },
    {
      "cell_type": "code",
      "metadata": {
        "colab": {
          "base_uri": "https://localhost:8080/"
        },
        "id": "xmMF_HHcWOCx",
        "outputId": "c5d2219b-c7fc-4a31-a937-9d3403431ef0"
      },
      "source": [
        "top_rated_movies = top_rated.join(movies, ['movieId']).sort(desc(\"avg_rating\"))\n",
        "top_rated_movies.show(10)"
      ],
      "execution_count": 86,
      "outputs": [
        {
          "output_type": "stream",
          "text": [
            "+-------+----------+--------------------+--------------------+\n",
            "|movieId|avg_rating|               title|              genres|\n",
            "+-------+----------+--------------------+--------------------+\n",
            "| 175095|       5.0|The Exhibitionist...|               Drama|\n",
            "| 136914|       5.0|         RISE (2014)|Crime|Drama|Thriller|\n",
            "| 139289|       5.0|The Shattering (2...|              Horror|\n",
            "| 136782|       5.0|The Girl is in Tr...|            Thriller|\n",
            "| 159050|       5.0|The Pilot's Wife ...|  (no genres listed)|\n",
            "| 169338|       5.0|Brad Williams: Da...|              Comedy|\n",
            "| 194280|       5.0|        Panic (1982)|       Horror|Sci-Fi|\n",
            "| 200296|       5.0|The Control Group...|              Horror|\n",
            "| 187951|       5.0|Father of Lights ...|         Documentary|\n",
            "| 159904|       5.0|Living on Love (1...|      Comedy|Romance|\n",
            "+-------+----------+--------------------+--------------------+\n",
            "only showing top 10 rows\n",
            "\n"
          ],
          "name": "stdout"
        }
      ]
    },
    {
      "cell_type": "markdown",
      "metadata": {
        "id": "Rl4royYcWOCx"
      },
      "source": [
        "We can see that these movies are have very high average rating but are not really well known. This is because they could have very few 5 star ratings and still be shown here. To avoid this, we will have to consider top rated movies with also a good number of ratings."
      ]
    },
    {
      "cell_type": "code",
      "metadata": {
        "colab": {
          "base_uri": "https://localhost:8080/"
        },
        "id": "fUD8IhTXWOCx",
        "outputId": "10b8e8b0-fd3f-4251-d5d3-a902ce097323"
      },
      "source": [
        "top_rated = ratings\\\n",
        ".groupBy(\"movieId\")\\\n",
        ".agg(count(\"userId\"), avg(col(\"rating\")))\\\n",
        ".withColumnRenamed(\"count(userId)\", \"num_ratings\")\\\n",
        ".withColumnRenamed(\"avg(rating)\", \"avg_rating\")\n",
        "\n",
        "\n",
        "top_rated_movies = top_rated.join(movies, ['movieId']).sort(desc(\"avg_rating\"), desc(\"num_ratings\"))\n",
        "top_rated_movies.show(50)"
      ],
      "execution_count": 87,
      "outputs": [
        {
          "output_type": "stream",
          "text": [
            "+-------+-----------+----------+--------------------+--------------------+\n",
            "|movieId|num_ratings|avg_rating|               title|              genres|\n",
            "+-------+-----------+----------+--------------------+--------------------+\n",
            "| 165787|          3|       5.0|Lonesome Dove Chu...|             Western|\n",
            "| 118268|          3|       5.0|Borrowed Time (2012)|               Drama|\n",
            "| 179731|          3|       5.0|Sound of Christma...|               Drama|\n",
            "| 148298|          3|       5.0|       Awaken (2013)|Drama|Romance|Sci-Fi|\n",
            "| 201821|          2|       5.0| Civilisation (1969)|  (no genres listed)|\n",
            "| 159797|          2|       5.0|La muerte de Jaim...|         Documentary|\n",
            "| 184903|          2|       5.0|     Joy Road (2011)|         Crime|Drama|\n",
            "| 133297|          2|       5.0|Genius on Hold (2...|  (no genres listed)|\n",
            "| 168020|          2|       5.0|Christmas Angel (...|Comedy|Drama|Romance|\n",
            "| 183357|          2|       5.0|    Bidder 70 (2013)|  (no genres listed)|\n",
            "| 169232|          2|       5.0|Christmas on Salv...|  (no genres listed)|\n",
            "| 179559|          2|       5.0|The Memory Book (...|       Drama|Romance|\n",
            "| 169818|          2|       5.0|FB: Fighting Beat...|              Action|\n",
            "| 175635|          2|       5.0|American Teacher ...|         Documentary|\n",
            "| 140377|          2|       5.0|         About Sarah|               Drama|\n",
            "| 195331|          2|       5.0|      Basette (2008)|  (no genres listed)|\n",
            "| 151793|          2|       5.0|My Last Year With...|  (no genres listed)|\n",
            "| 182657|          2|       5.0|         Pale (2016)|     Sci-Fi|Thriller|\n",
            "| 164787|          2|       5.0|You Cast A Spell ...|  (no genres listed)|\n",
            "| 208477|          2|       5.0|       Kaithi (2019)|     Action|Thriller|\n",
            "| 195641|          2|       5.0|Final Recourse (2...|      Drama|Thriller|\n",
            "| 179589|          2|       5.0|  Windstorm 2 (2015)|Adventure|Childre...|\n",
            "| 161944|          2|       5.0|The Last Brickmak...|               Drama|\n",
            "| 148114|          2|       5.0|The Ties That Bin...|  (no genres listed)|\n",
            "| 194941|          2|       5.0|     Solitary (2016)|         Documentary|\n",
            "| 164278|          2|       5.0|Going Attractions...|Children|Documentary|\n",
            "| 140369|          2|       5.0|    War Arrow (1954)|Adventure|Drama|R...|\n",
            "| 202936|          2|       5.0|      ReMoved (2013)|               Drama|\n",
            "| 202231|          2|       5.0|       Foster (2018)|         Documentary|\n",
            "| 139547|          2|       5.0|Placebo: Soulmate...|  (no genres listed)|\n",
            "| 156309|          2|       5.0| It Ain't Hay (1943)|              Comedy|\n",
            "| 193529|          2|       5.0|Traces of Smoke (...|  (no genres listed)|\n",
            "| 178147|          2|       5.0|Beatles Stories (...|         Documentary|\n",
            "| 143422|          2|       5.0|            2 (2007)|               Drama|\n",
            "| 137853|          2|       5.0|    El camino (2008)|               Drama|\n",
            "| 186625|          1|       5.0| Game of Aces (2016)|Action|Adventure|War|\n",
            "| 135338|          1|       5.0|Letto a Tre Piazz...|              Comedy|\n",
            "| 128137|          1|       5.0|You're Jinxed, Fr...|  (no genres listed)|\n",
            "| 169816|          1|       5.0|Day of the Panthe...|              Action|\n",
            "| 139289|          1|       5.0|The Shattering (2...|              Horror|\n",
            "| 191271|          1|       5.0|    Underdogs (2013)|      Children|Drama|\n",
            "| 207499|          1|       5.0|The Winter Stalli...|            Children|\n",
            "| 178185|          1|       5.0|Dusty's Trail: Su...|  (no genres listed)|\n",
            "| 175099|          1|       5.0|Amelia's 25th (2013)|      Comedy|Romance|\n",
            "| 151854|          1|       5.0|Devil May Call (2...|              Horror|\n",
            "| 166900|          1|       5.0|Sondheim! The Bir...|  (no genres listed)|\n",
            "| 136782|          1|       5.0|The Girl is in Tr...|            Thriller|\n",
            "| 169940|          1|       5.0|Days of Thrills a...|         Documentary|\n",
            "| 196631|          1|       5.0|Red Is the Color ...|Comedy|Drama|Romance|\n",
            "| 187951|          1|       5.0|Father of Lights ...|         Documentary|\n",
            "+-------+-----------+----------+--------------------+--------------------+\n",
            "only showing top 50 rows\n",
            "\n"
          ],
          "name": "stdout"
        }
      ]
    },
    {
      "cell_type": "markdown",
      "metadata": {
        "id": "kjdaD8HHWOCx"
      },
      "source": [
        "Like you can see above, there are only 3 ratings for the first top rated movie. So we have to set a threshold like around 500 at the least."
      ]
    },
    {
      "cell_type": "code",
      "metadata": {
        "colab": {
          "base_uri": "https://localhost:8080/"
        },
        "id": "JLorOyYVWOCx",
        "outputId": "128ee678-7f74-4b8a-fcae-1ba33d56b207"
      },
      "source": [
        "top_rated_movies.where(\"num_ratings > 500\").show(20)"
      ],
      "execution_count": 88,
      "outputs": [
        {
          "output_type": "stream",
          "text": [
            "+-------+-----------+------------------+--------------------+--------------------+\n",
            "|movieId|num_ratings|        avg_rating|               title|              genres|\n",
            "+-------+-----------+------------------+--------------------+--------------------+\n",
            "| 171011|       1124| 4.483096085409253|Planet Earth II (...|         Documentary|\n",
            "| 159817|       1747| 4.464796794504865| Planet Earth (2006)|         Documentary|\n",
            "|    318|      81482| 4.413576004516335|Shawshank Redempt...|         Crime|Drama|\n",
            "| 170705|       1356| 4.398598820058997|Band of Brothers ...|    Action|Drama|War|\n",
            "|    858|      52498| 4.324336165187245|Godfather, The (1...|         Crime|Drama|\n",
            "| 179135|        659| 4.289833080424886|Blue Planet II (2...|         Documentary|\n",
            "|     50|      55366| 4.284353213163313|Usual Suspects, T...|Crime|Mystery|Thr...|\n",
            "|   1221|      34188|4.2617585117585115|Godfather: Part I...|         Crime|Drama|\n",
            "| 163809|        546| 4.258241758241758|Over the Garden W...|Adventure|Animati...|\n",
            "|   2019|      13367|  4.25476920775043|Seven Samurai (Sh...|Action|Adventure|...|\n",
            "| 142115|        564|  4.24822695035461|The Blue Planet (...|         Documentary|\n",
            "|    527|      60411| 4.247579083279535|Schindler's List ...|           Drama|War|\n",
            "|   1203|      16569| 4.243014062405697| 12 Angry Men (1957)|               Drama|\n",
            "|    904|      20162| 4.237947624243627|  Rear Window (1954)|    Mystery|Thriller|\n",
            "|   2959|      58773| 4.228310618821568|   Fight Club (1999)|Action|Crime|Dram...|\n",
            "|   1193|      36058|4.2186616007543405|One Flew Over the...|               Drama|\n",
            "|    750|      26714| 4.215804447106386|Dr. Strangelove o...|          Comedy|War|\n",
            "|   5618|      22719| 4.212267265284564|Spirited Away (Se...|Adventure|Animati...|\n",
            "| 166024|       1030| 4.210194174757282|     Whiplash (2013)|  (no genres listed)|\n",
            "|    912|      26890| 4.206563778356267|   Casablanca (1942)|       Drama|Romance|\n",
            "+-------+-----------+------------------+--------------------+--------------------+\n",
            "only showing top 20 rows\n",
            "\n"
          ],
          "name": "stdout"
        }
      ]
    },
    {
      "cell_type": "markdown",
      "metadata": {
        "id": "wsHgj1tHWOCx"
      },
      "source": [
        "Now we can see that these movies have quite a few ratings are are well known. We can tweak the number of ratings to see movies which have more ratings."
      ]
    },
    {
      "cell_type": "markdown",
      "metadata": {
        "id": "XIcghZwfWOCx"
      },
      "source": [
        "# Most Polarizing Movies"
      ]
    },
    {
      "cell_type": "markdown",
      "metadata": {
        "id": "7t5zKeiNWOCx"
      },
      "source": [
        "Polarizing movies are those which people either hate or love. Some people love it while a few others hate it.  \n",
        "We can find these by looking for movies which have the highest standard deviation in the ratings. Standard Deviation is a measure of how much the data varies from the mean and so we hope this is a good measure for that."
      ]
    },
    {
      "cell_type": "code",
      "metadata": {
        "colab": {
          "base_uri": "https://localhost:8080/"
        },
        "id": "I8eqx0cuWOCx",
        "outputId": "bcca9034-f8c6-4e83-c92d-ac194f56f3f4"
      },
      "source": [
        "ratings_stddev = ratings\\\n",
        ".groupBy(\"movieId\")\\\n",
        ".agg(count(\"userId\").alias(\"num_ratings\"), \n",
        "     avg(col(\"rating\")).alias(\"avg_rating\"),\n",
        "     stddev(col(\"rating\")).alias(\"std_rating\")\n",
        "    )\\\n",
        ".where(\"num_ratings > 500\")\n",
        "\n",
        "marmite_movies = ratings_stddev.join(movies, ['movieId'])\n",
        "marmite_movies.sort(desc(\"std_rating\")).show(15)"
      ],
      "execution_count": 89,
      "outputs": [
        {
          "output_type": "stream",
          "text": [
            "+-------+-----------+------------------+------------------+--------------------+--------------------+\n",
            "|movieId|num_ratings|        avg_rating|        std_rating|               title|              genres|\n",
            "+-------+-----------+------------------+------------------+--------------------+--------------------+\n",
            "|  74754|        670| 2.403731343283582|1.6649650528666515|    Room, The (2003)|Comedy|Drama|Romance|\n",
            "|  62912|        611|2.5106382978723403|1.4888552380190527|High School Music...|             Musical|\n",
            "|  98203|       1569|2.5242192479286167|1.4560043846864676|Twilight Saga: Br...|Adventure|Drama|F...|\n",
            "|  27899|        616|2.7767857142857144| 1.445519028350731|What the #$*! Do ...|Comedy|Documentar...|\n",
            "|  91104|       1896|2.3285864978902953| 1.442346851125679|Twilight Saga: Br...|Adventure|Drama|F...|\n",
            "|   1924|       2210| 2.613348416289593| 1.417228312413465|Plan 9 from Outer...|       Horror|Sci-Fi|\n",
            "|  78772|       2857|2.3773188659432973| 1.405303363298029|Twilight Saga: Ec...|Fantasy|Romance|T...|\n",
            "|  46062|       1165| 2.584978540772532|1.3779333361047366|High School Music...|Children|Comedy|D...|\n",
            "|  81535|        759|2.7259552042160737|1.3775904753516586|Saw VII 3D - The ...|Horror|Mystery|Th...|\n",
            "|  72407|       2842| 2.351161154116819| 1.377464981075965|Twilight Saga: Ne...|Drama|Fantasy|Hor...|\n",
            "|  78174|        700|2.3392857142857144|1.3729814903705226|Sex and the City ...|Comedy|Drama|Romance|\n",
            "|  61123|        690| 2.508695652173913|1.3661615663530424|High School Music...|Comedy|Drama|Musi...|\n",
            "| 100083|        592|2.3597972972972974|1.3601552462375284|     Movie 43 (2013)|              Comedy|\n",
            "|  63992|       6115| 2.391414554374489|1.3592448248808724|     Twilight (2008)|Drama|Fantasy|Rom...|\n",
            "|   4255|       1721|2.1406159209761766|1.3546798615900133|Freddy Got Finger...|              Comedy|\n",
            "+-------+-----------+------------------+------------------+--------------------+--------------------+\n",
            "only showing top 15 rows\n",
            "\n"
          ],
          "name": "stdout"
        }
      ]
    },
    {
      "cell_type": "markdown",
      "metadata": {
        "id": "j5JyGFtlWOCx"
      },
      "source": [
        "We can see that these movies are pretty popular and are actually in that category. A simple Google search for these movie ratings shows mixed results. Some really like it and some hate it."
      ]
    },
    {
      "cell_type": "markdown",
      "metadata": {
        "id": "swS27OkjWOCx"
      },
      "source": [
        "# Visualizations"
      ]
    },
    {
      "cell_type": "code",
      "metadata": {
        "id": "4d2KZLj0WOCx"
      },
      "source": [
        "#Installing koalas. Needed for some visualizations.\n",
        "!pip install koalas > /dev/null"
      ],
      "execution_count": 24,
      "outputs": []
    },
    {
      "cell_type": "code",
      "metadata": {
        "id": "VmtQZiyAWOCy"
      },
      "source": [
        "!pip install seaborn > /dev/null"
      ],
      "execution_count": 25,
      "outputs": []
    },
    {
      "cell_type": "code",
      "metadata": {
        "id": "IVA1PXQvWOCy"
      },
      "source": [
        "#Importing packages needed for visualizations\n",
        "import math\n",
        "import numpy as np\n",
        "import pandas as pd\n",
        "import matplotlib.pyplot as plt\n",
        "import matplotlib.ticker as ticker\n",
        "import seaborn as sns\n",
        "import random\n",
        "from pprint import pprint\n",
        "from matplotlib.lines import Line2D\n",
        "import databricks.koalas as ks\n",
        "\n",
        "#Set-up\n",
        "plt.style.use('ggplot')"
      ],
      "execution_count": 43,
      "outputs": []
    },
    {
      "cell_type": "markdown",
      "metadata": {
        "id": "9IF7eY8PWOCy"
      },
      "source": [
        "### Number of Ratings Per User"
      ]
    },
    {
      "cell_type": "code",
      "metadata": {
        "id": "83GLzo7LWOCy"
      },
      "source": [
        "ks.set_option('compute.default_index_type', 'sequence')\n",
        "ks.set_option('compute.ops_on_diff_frames', True)\n",
        "dfRatingsKdf = ratings.to_koalas()"
      ],
      "execution_count": 50,
      "outputs": []
    },
    {
      "cell_type": "code",
      "metadata": {
        "colab": {
          "base_uri": "https://localhost:8080/",
          "height": 391
        },
        "id": "ujAldf_3WOCy",
        "outputId": "a4b45e29-ffdb-4ed2-a150-1e193abccb72"
      },
      "source": [
        "f, ax = plt.subplots(figsize=(12,6))\n",
        "userRatingGroup = dfRatingsKdf.groupby(\"userId\")['rating'].count()\n",
        "userRatingGroup.hist(bins=100, color='blue', edgecolor='black',\n",
        "                     linewidth=1.25, alpha=0.78, ax=ax)\n",
        "ax.set_xlabel('Nb. of Ratings per User')\n",
        "ax.set_xlim(0.0)\n",
        "ax.set_xticklabels(['{:,}'.format(int(x)) for x in ax.get_xticks().tolist()])\n",
        "ax.set_yticklabels(['{:,}'.format(int(x)) for x in ax.get_yticks().tolist()])\n",
        "plt.show()"
      ],
      "execution_count": 51,
      "outputs": [
        {
          "output_type": "display_data",
          "data": {
            "image/png": "[encoded data removed]",
            "text/plain": [
              "<Figure size 864x432 with 1 Axes>"
            ]
          },
          "metadata": {
            "tags": []
          }
        }
      ]
    },
    {
      "cell_type": "markdown",
      "metadata": {
        "id": "jmSL_0pBWOCy"
      },
      "source": [
        "We can see from the above graph that most number of users i.e. greater than 1,40,000 of them have rated very few movies."
      ]
    },
    {
      "cell_type": "markdown",
      "metadata": {
        "id": "_tj30-BAWOCy"
      },
      "source": [
        "### Number of Ratings Per Movie"
      ]
    },
    {
      "cell_type": "code",
      "metadata": {
        "colab": {
          "base_uri": "https://localhost:8080/",
          "height": 391
        },
        "id": "u7Jv0_TgWOCy",
        "outputId": "1aaa9e08-cc8e-4b78-d310-20897db0dd96"
      },
      "source": [
        "f, ax = plt.subplots(figsize=(12,6))\n",
        "movieRatingGroup = dfRatingsKdf.groupby(\"movieId\")['rating'].count()\n",
        "movieRatingGroup.hist(bins=100, color='blue', edgecolor='black',\n",
        "                      linewidth=1.25, alpha=0.78, ax=ax)\n",
        "ax.set_xlabel('Nb. of Ratings per Movie')\n",
        "ax.set_xlim(0.0)\n",
        "ax.set_xticklabels(['{:,}'.format(int(x)) for x in ax.get_xticks().tolist()])\n",
        "ax.set_yticklabels(['{:,}'.format(int(x)) for x in ax.get_yticks().tolist()])\n",
        "plt.show()"
      ],
      "execution_count": 52,
      "outputs": [
        {
          "output_type": "display_data",
          "data": {
            "image/png": "[encoded data removed]",
            "text/plain": [
              "<Figure size 864x432 with 1 Axes>"
            ]
          },
          "metadata": {
            "tags": []
          }
        }
      ]
    },
    {
      "cell_type": "markdown",
      "metadata": {
        "id": "ZcZAwDJfWOCy"
      },
      "source": [
        "This is the similar to the above case."
      ]
    },
    {
      "cell_type": "markdown",
      "metadata": {
        "id": "nWVx2R3gWOCy"
      },
      "source": [
        ""
      ]
    },
    {
      "cell_type": "code",
      "metadata": {
        "colab": {
          "base_uri": "https://localhost:8080/",
          "height": 399
        },
        "id": "-AmPqYkHWOCy",
        "outputId": "e96f6fcb-e9fe-4f28-ab65-9eef6b5fdfec"
      },
      "source": [
        "movieRatingDistGroup = dfRatingsKdf['rating'].value_counts() \\\n",
        "                                             .sort_index() \\\n",
        "                                             .reset_index() \\\n",
        "                                             .to_pandas()\n",
        "\n",
        "# Create Matplotlib Figure\n",
        "fig, ax = plt.subplots(figsize=(12,6))\n",
        "\n",
        "# Main Figure: Seaborn Barplot\n",
        "sns.barplot(data=movieRatingDistGroup, x='index', y='rating',\n",
        "            palette='RdYlGn', edgecolor=\"black\", ax=ax)\n",
        "\n",
        "# Set Xaxis and Yaxis\n",
        "ax.set_xlabel(\"User-Movie Ratings\")\n",
        "ax.set_ylabel('Nb. of Users')\n",
        "ax.xaxis.set_tick_params(rotation=45)\n",
        "\n",
        "# Thousand separator on Yaxis labels\n",
        "ax.set_yticklabels(['{:,}'.format(int(x)) for x in ax.get_yticks().tolist()])\n",
        "\n",
        "# Add percentage text on top of each bar\n",
        "total = float(movieRatingDistGroup['rating'].sum())\n",
        "for p in ax.patches:\n",
        "    height = p.get_height()\n",
        "    ax.text(p.get_x()+p.get_width()/2.,\n",
        "            height+350,\n",
        "            '{0:.0%}'.format(height/total),\n",
        "            ha=\"center\") \n",
        "\n",
        "# Display plot\n",
        "plt.show()"
      ],
      "execution_count": 53,
      "outputs": [
        {
          "output_type": "display_data",
          "data": {
            "image/png": "[encoded data removed]",
            "text/plain": [
              "<Figure size 864x432 with 1 Axes>"
            ]
          },
          "metadata": {
            "tags": []
          }
        }
      ]
    },
    {
      "cell_type": "code",
      "metadata": {
        "colab": {
          "base_uri": "https://localhost:8080/"
        },
        "id": "hgQCIpBHvPc-",
        "outputId": "9edf72ef-2bb0-463e-8c99-dfd91deafdc2"
      },
      "source": [
        "type(dfRatingsKdf),type(ratings)"
      ],
      "execution_count": 54,
      "outputs": [
        {
          "output_type": "execute_result",
          "data": {
            "text/plain": [
              "(databricks.koalas.frame.DataFrame, pyspark.sql.dataframe.DataFrame)"
            ]
          },
          "metadata": {
            "tags": []
          },
          "execution_count": 54
        }
      ]
    },
    {
      "cell_type": "code",
      "metadata": {
        "colab": {
          "base_uri": "https://localhost:8080/",
          "height": 396
        },
        "id": "ZOvrMHywWOCy",
        "outputId": "96b99294-825c-4ee1-ec57-e90ce3bc6dcb"
      },
      "source": [
        "f, ax = plt.subplots(figsize=(12,6))\n",
        "\n",
        "# Calculate Cumulative Volumes\n",
        "item_id_column = \"movieId\"\n",
        "volume_df = dfRatingsKdf[item_id_column].value_counts().reset_index()\n",
        "volume_df.columns = [item_id_column, \"volume\"]\n",
        "volume_df[item_id_column] = volume_df[item_id_column].astype(str)\n",
        "volume_df['cumulative_volume'] = volume_df['volume'].cumsum()\n",
        "volume_df['percent_of_total_volume'] = \\\n",
        "    volume_df['cumulative_volume']/volume_df['volume'].sum()\n",
        "\n",
        "# Main\n",
        "temp = volume_df['volume']\n",
        "temp.plot(kind='line', ax=ax, color='black')\n",
        "\n",
        "ax.set_xlim(-15)\n",
        "ax.set_ylim(0.0)\n",
        "ax.set_xticklabels(['{:,}'.format(int(x)) for x in ax.get_xticks().tolist()])\n",
        "ax.set_yticklabels(['{:,}'.format(int(x)) for x in ax.get_yticks().tolist()])\n",
        "ax.set_xlabel('Movie index ordered by decreasing frequency')\n",
        "ax.set_ylabel('Nb. of user ratings received by movie')\n",
        "\n",
        "# Plot vertical line at the tail location\n",
        "percentage = 0.5\n",
        "head = volume_df[volume_df.percent_of_total_volume <= percentage]\n",
        "tail = volume_df[volume_df.percent_of_total_volume > percentage]\n",
        "items_in_head = len(head)\n",
        "items_in_tail = len(tail)\n",
        "\n",
        "plt.axvline(x=items_in_head, color=\"red\",  linestyle='--')\n",
        "\n",
        "# Legend\n",
        "legend_elements = [Line2D([0], [0], marker='o', color='black',\n",
        "                          label=str(items_in_head)+': movies in the head',\n",
        "                          markerfacecolor='green', markersize=5),\n",
        "                    \n",
        "                    Line2D([0], [0], marker='o', color='black',\n",
        "                          label=str(items_in_tail)+': movies in the tail',\n",
        "                          markerfacecolor='red', markersize=5)]\n",
        "ax.legend(handles=legend_elements, loc=1)\n",
        "\n",
        "# Fill area under plot\n",
        "head = head.append(tail.head(1))\n",
        "x1 = head.index.to_pandas().to_numpy() \n",
        "y1 = head['volume'].to_pandas()        \n",
        "x2 = tail.index.to_pandas().to_numpy() \n",
        "y2 = tail['volume'].to_pandas()        \n",
        "ax.fill_between(x1, y1, color=\"green\", alpha=0.2)\n",
        "ax.fill_between(x2, y2,  color=\"red\", alpha=0.2)\n",
        "\n",
        "plt.show()"
      ],
      "execution_count": 55,
      "outputs": [
        {
          "output_type": "display_data",
          "data": {
            "image/png": "[encoded data removed]",
            "text/plain": [
              "<Figure size 864x432 with 1 Axes>"
            ]
          },
          "metadata": {
            "tags": []
          }
        }
      ]
    },
    {
      "cell_type": "markdown",
      "metadata": {
        "id": "6UL8l2MlypTq"
      },
      "source": [
        "Only 653 movies lie within the top 0.5% of the movies, taking number of ratings into consideration. The remaining form the 'long tail'. Chris Anderson, in his book, *The Long Tail: Why the Future of Business is Selling Less of More*, argues that products in low demand or that have a low sales volume can collectively build a better market share than their relatively few but popular rivals, provided the product distribution is large enough. In this regard, an online marketspace alleviates competition for shelf space, allowing immeasurable number of products to be sold. He notes that Amazon, Apple and Yahoo are some of the businesses applying this strategy.\n",
        "\n",
        "A good recommendation engine should exploit this strategy and recommend more items from the long tail to the users."
      ]
    }
  ]
}