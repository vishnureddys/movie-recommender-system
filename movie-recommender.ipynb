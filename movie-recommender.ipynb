{
 "cells": [
  {
   "cell_type": "code",
   "execution_count": 1,
   "metadata": {},
   "outputs": [],
   "source": [
    "import os"
   ]
  },
  {
   "cell_type": "code",
   "execution_count": 2,
   "metadata": {},
   "outputs": [
    {
     "data": {
      "text/plain": [
       "'/usr/lib/jvm/java-8-openjdk-amd64'"
      ]
     },
     "execution_count": 2,
     "metadata": {},
     "output_type": "execute_result"
    }
   ],
   "source": [
    "os.environ[\"JAVA_HOME\"]"
   ]
  },
  {
   "cell_type": "code",
   "execution_count": 3,
   "metadata": {},
   "outputs": [
    {
     "data": {
      "text/plain": [
       "'/home/vishnu/hadoop/spark'"
      ]
     },
     "execution_count": 3,
     "metadata": {},
     "output_type": "execute_result"
    }
   ],
   "source": [
    "os.environ[\"SPARK_HOME\"]"
   ]
  },
  {
   "cell_type": "code",
   "execution_count": 4,
   "metadata": {},
   "outputs": [
    {
     "name": "stdout",
     "output_type": "stream",
     "text": [
      "Master :  local[*]\n",
      "Cores  :  12\n"
     ]
    }
   ],
   "source": [
    "#Now launching a spark session on colab\n",
    "import findspark\n",
    "findspark.init()\n",
    "\n",
    "#Start Apache Spark session and context\n",
    "import pyspark\n",
    "from pyspark.sql import SQLContext\n",
    "\n",
    "sc = pyspark.SparkContext(appName='als_recommender')\n",
    "sqlContext = SQLContext(sc)\n",
    "\n",
    "print('Master : ', sc.master)\n",
    "print('Cores  : ', sc.defaultParallelism)"
   ]
  },
  {
   "cell_type": "code",
   "execution_count": 5,
   "metadata": {},
   "outputs": [],
   "source": [
    "# Required Later\n",
    "sqlContext.sparkSession.conf.set(\"spark.sql.autoBroadcastJoinThreshold\", -1)"
   ]
  },
  {
   "cell_type": "code",
   "execution_count": 6,
   "metadata": {},
   "outputs": [],
   "source": [
    "# Default Packages (available by Default in Google Colab)\n",
    "import math\n",
    "import numpy as np\n",
    "import pandas as pd\n",
    "import matplotlib.pyplot as plt\n",
    "import matplotlib.ticker as ticker\n",
    "import seaborn as sns\n",
    "import random\n",
    "from pprint import pprint\n",
    "from matplotlib.lines import Line2D\n",
    "\n",
    "# PySpark Utilities\n",
    "import pyspark.sql.functions as F\n",
    "from pyspark.sql.types import *\n",
    "from pyspark.ml.recommendation import ALS, ALSModel\n",
    "from pyspark.ml.evaluation import RegressionEvaluator, BinaryClassificationEvaluator\n",
    "from pyspark.ml.tuning import ParamGridBuilder, TrainValidationSplit\n",
    "from pyspark.mllib.evaluation import RegressionMetrics, RankingMetrics\n",
    "\n",
    "# Random Seed\n",
    "SEED = 1492\n",
    "\n"
   ]
  },
  {
   "cell_type": "code",
   "execution_count": 7,
   "metadata": {},
   "outputs": [],
   "source": [
    "#Path to Data Folder\n",
    "DATA_PATH = \"ml-25m/\"\n",
    "\n",
    "#Path to Results Folder\n",
    "RESULTS_PATH = \"results/\""
   ]
  },
  {
   "cell_type": "markdown",
   "metadata": {},
   "source": [
    "# Preprocessing"
   ]
  },
  {
   "cell_type": "code",
   "execution_count": 8,
   "metadata": {},
   "outputs": [],
   "source": [
    "class MovieLensDatasets(object):\n",
    "    \"\"\"\n",
    "    Class for loading and preprocesing MovieLens Dataset\n",
    "    \"\"\"\n",
    "    def __init__(self, ratings, movies, links, personalRatings, debug=True, debugLimit=10000):\n",
    "        # Load Existing Data\n",
    "        if debug:\n",
    "            debugLimit = debugLimit\n",
    "            ratings = ratings.limit(debugLimit)\n",
    "        else:\n",
    "            ratings = ratings      \n",
    "\n",
    "        self.ratings = ratings\n",
    "        self.movies = movies\n",
    "        self.links = links\n",
    "        self.personalRatings = personalRatings\n",
    "\n",
    "        # Create New DataFrame\n",
    "        users = ratings.select('userId').distinct()\n",
    "        self.users = users\n",
    "\n",
    "    def preprocessing(self):\n",
    "        # Preprocess MovieLens Ratings\n",
    "        self.ratings = self.ratings.withColumn('rating',\n",
    "        F.col('rating').cast('double')).drop('timestamp') \\\n",
    "        .withColumn('userId', F.col('userId').cast('int')) \\\n",
    "        .withColumn('movieId', F.col('movieId').cast('int'))\n",
    "\n",
    "        # Preprocess Personal IMDb Ratings To MovieLens Ratings\n",
    "        self.personalRatings = self.personalRatings.select(['Const',\n",
    "                                                'Your Rating']) \\\n",
    "        .withColumnRenamed('Const', 'imdbId') \\\n",
    "        .withColumnRenamed('Your Rating', 'personalRating')\n",
    "\n",
    "        self.personalRatings = self.personalRatings \\\n",
    "        .withColumn('personalRating', F.col('personalRating').cast('double')*0.5) \\\n",
    "        .withColumn('imdbId', F.expr(\"substr(imdbId, 3)\"))\n",
    "\n",
    "        self.personalRatings = self.personalRatings.join(\n",
    "        self.links.select('movieId', 'imdbId'), ['imdbId'], how='inner')\n",
    "\n",
    "        # Insert IMDb Ratings into MovieLens Ratings Dataset\n",
    "        self.personalRatings = self.personalRatings \\\n",
    "                    .withColumn('userId', F.lit('0'))\n",
    "        self.personalRatings = self.personalRatings \\\n",
    "                    .select(['userId', 'movieId', 'personalRating']) \\\n",
    "                    .toDF('userId', 'movieId', 'rating')\n",
    "        self.ratings = self.ratings.union(self.personalRatings)\n",
    "\n",
    "        # Binarize MovieLens Ratings (if rating >= 3.0, then 1.0, else 0.0)\n",
    "        udf_scale_ratings = F.udf(lambda x: x - 2.5, DoubleType())\n",
    "        udf_binary_ratings = F.udf(lambda x: 1.0 if x > 0.0 else 0.0, DoubleType())\n",
    "\n",
    "        self.ratings = self.ratings \\\n",
    "        .withColumn('ratingsScaled', udf_scale_ratings(F.col('rating'))) \\\n",
    "        .withColumn('ratingsBinary', udf_binary_ratings(F.col('ratingsScaled')))\n",
    "\n",
    "    def get_ratings(self):\n",
    "        return self.ratings\n",
    "\n",
    "    def get_movies(self):\n",
    "        return self.movies\n",
    "\n",
    "    # Displaying Null Values\n",
    "    def spark_df_display_null_values(sparkDf):\n",
    "        print('NaN values ?')\n",
    "        sparkDf.select([F.count(F.when(F.isnan(c), c)).alias(c) for c in sparkDf.columns]).show()\n",
    "\n",
    "        print('Null values ?')\n",
    "        sparkDf.select([F.count(F.when(F.isnull(c), c)).alias(c) for c in sparkDf.columns]).show()"
   ]
  },
  {
   "cell_type": "code",
   "execution_count": 11,
   "metadata": {},
   "outputs": [
    {
     "name": "stdout",
     "output_type": "stream",
     "text": [
      "CPU times: user 17 ms, sys: 6.39 ms, total: 23.3 ms\n",
      "Wall time: 3.54 s\n"
     ]
    }
   ],
   "source": [
    "%%time\n",
    "# Set to True if only testing\n",
    "# For testing: use debug=True option (subset of all ratings)\n",
    "debug = False\n",
    "\n",
    "# Load Datasets\n",
    "movies = sqlContext \\\n",
    "            .read.format('csv').option(\"header\", \"true\") \\\n",
    "            .load(DATA_PATH + \"/movies.csv\")\n",
    "\n",
    "links = sqlContext \\\n",
    "            .read.format('csv').option(\"header\", \"true\") \\\n",
    "            .load(DATA_PATH + \"/links.csv\")\n",
    "\n",
    "ratings = sqlContext.read \\\n",
    "            .format('csv').option(\"header\", \"true\") \\\n",
    "            .load(DATA_PATH + \"/ratings.csv\")\n",
    "\n",
    "personalRatings = sqlContext \\\n",
    "            .read.format('csv').option(\"header\", \"true\") \\\n",
    "            .load(DATA_PATH + \"/personal_IMDB_ratings.csv\")\n",
    "\n",
    "\n",
    "# Data Preprocessing\n",
    "movieLensDatasets = MovieLensDatasets(ratings=ratings, movies=movies,\n",
    "                                      links=links,\n",
    "                                      personalRatings=personalRatings,\n",
    "                                      debug=debug)\n",
    "\n",
    "movieLensDatasets.preprocessing()\n",
    "dfRatings = movieLensDatasets.get_ratings() \n",
    "dfMovies = movieLensDatasets.get_movies()"
   ]
  },
  {
   "cell_type": "code",
   "execution_count": 12,
   "metadata": {},
   "outputs": [],
   "source": [
    "ratingsPrepare = dfRatings.withColumn(\"userId\", F.col(\"userId\").cast('int')) \\\n",
    "                          .withColumn(\"movieId\", F.col(\"movieId\").cast('int'))\n",
    "\n",
    "dfRatingsTrain, dfRatingsTest = ratingsPrepare.randomSplit([0.7, 0.3],\n",
    "                                                           seed=SEED)"
   ]
  },
  {
   "cell_type": "code",
   "execution_count": 13,
   "metadata": {},
   "outputs": [],
   "source": [
    "def catalog_coverage(predicted, catalog, k):\n",
    "    \"\"\"\n",
    "    Computes the catalog coverage for k lists of recommendations\n",
    "    Parameters\n",
    "    ----------\n",
    "    predicted : a list of lists\n",
    "        Ordered predictions\n",
    "        example: [['X', 'Y', 'Z'], ['X', 'Y', 'Z']]\n",
    "    catalog: list\n",
    "        A list of all unique items in the training data\n",
    "        example: ['A', 'B', 'C', 'X', 'Y', Z]\n",
    "    k: integer\n",
    "        The number of observed recommendation lists\n",
    "        which randomly choosed in our offline setup\n",
    "    Returns\n",
    "    ----------\n",
    "    catalog_coverage:\n",
    "        The catalog coverage of the recommendations as a percent\n",
    "        rounded to 2 decimal places\n",
    "    ----------    \n",
    "    Metric Defintion:\n",
    "    Ge, M., Delgado-Battenfeld, C., & Jannach, D. (2010, September).\n",
    "    Beyond accuracy: evaluating recommender systems by coverage and\n",
    "    serendipity.\n",
    "    In Proceedings of the fourth ACM conference on Recommender systems\n",
    "    (pp. 257-260). ACM.\n",
    "    \"\"\"\n",
    "    sampling = random.choices(predicted, k=k)\n",
    "    predicted_flattened = [p for sublist in sampling for p in sublist]\n",
    "    L_predictions = len(set(predicted_flattened))\n",
    "    catalog_coverage = L_predictions/(len(catalog)*1.0)\n",
    "    return catalog_coverage\n",
    "\n",
    "\n",
    "def get_rec_sys_results(relevantDocumentsDf, dfMovies):\n",
    "    \"\"\"\n",
    "    Returns dictionnary of recommender system metrics\n",
    "    Since Spark ML DataFrame-based doesn't have a\n",
    "    specific function for evaluating the soundness\n",
    "    of item recommendations, we will have to use\n",
    "    Spark MLlib RDD-based API\n",
    "    \"\"\"\n",
    "    # Transform Spark Dataframe into Spark RDD\n",
    "    relevantDocuments = relevantDocumentsDf.rdd \\\n",
    "        .map(lambda row: (row.predictions, row.groundTruth))\n",
    "    \n",
    "    # Get Catalog Coverage\n",
    "    moviesCatalog = dfMovies.select(\"movieId\") \\\n",
    "                            .orderBy(\"movieId\") \\\n",
    "                            .distinct() \\\n",
    "                            .toPandas()\n",
    "    predictions = relevantDocumentsDf.select(\"predictions\").toPandas()\n",
    "    predictionsList = predictions.values.tolist()\n",
    "    predictionsList = [sublist[0] for sublist in predictionsList]\n",
    "    cc = catalog_coverage(predicted=predictionsList,\n",
    "                          catalog=moviesCatalog, k=100)\n",
    "\n",
    "    # Get Results\n",
    "    metrics = RankingMetrics(relevantDocuments)\n",
    "    pk20 = metrics.precisionAt(20)\n",
    "    ndcg20 = metrics.ndcgAt(20)\n",
    "    \n",
    "    results = dict(Pk20=pk20, NDCGk20=ndcg20, CC=cc)\n",
    "    \n",
    "    return results\n",
    "\n",
    "\n",
    "def format_recommendations(rowPreds):\n",
    "    # From recommendations column extract only items\n",
    "    # recommended and ignore ratings\n",
    "    rowPredsList = [row.movieId for row in rowPreds]\n",
    "    return rowPredsList\n",
    "\n",
    "udf_format_recommendations = F.udf(lambda x: format_recommendations(x),\n",
    "                                   ArrayType(IntegerType()))"
   ]
  },
  {
   "cell_type": "code",
   "execution_count": 14,
   "metadata": {},
   "outputs": [],
   "source": [
    "class PopularityRecommenderModel(object):\n",
    "    \"\"\"\n",
    "    Class for generating movie item recommendations based on movie popularity\n",
    "    (from average ratings with logarithmic scaling factor that penalizes movies\n",
    "    with few ratings). By default, only the top 10 rated movies are selected.\n",
    "\n",
    "    Approach studied during MS Big Data's SD 701 Big Data Mining Course.\n",
    "    \"\"\"\n",
    "    def __init__(self, ratingsTrain, ratingsTest):\n",
    "        self.ratingsTrain = ratingsTrain\n",
    "        self.ratingsTest = ratingsTest\n",
    "\n",
    "    def generate_recommendations_for_all_users(self, topk=10):\n",
    "        # Get list of top k rated movies\n",
    "        topRated = self._get_top_k_best_movies(topk=topk)\n",
    "\n",
    "        # Compare most popular movies with user's personal preferences\n",
    "        # Important: only keep recommendations with rating over 3/5\n",
    "        results = self.ratingsTest \\\n",
    "                 .filter(F.col(\"ratingsBinary\")==1.0) \\\n",
    "                 .withColumn('movieId', F.col('movieId').cast('int')) \\\n",
    "                 .orderBy('rating', ascending=False) \\\n",
    "                 .groupby(\"userId\") \\\n",
    "                 .agg(F.collect_list(\"movieId\").alias('groundTruth')) \\\n",
    "                 .withColumn('predictions', F.array([F.lit(el)\n",
    "                        for el in topRated])) \\\n",
    "                 .select(['userId', 'predictions', 'groundTruth'])\n",
    "\n",
    "        return results\n",
    "\n",
    "    def _get_top_k_best_movies(self, topk):\n",
    "\n",
    "        # Function\n",
    "        def _get_mean_rating_w_log_penalty(arr):\n",
    "            sumRatings, nbRatings = arr[0], arr[1]\n",
    "            grade = (sumRatings / nbRatings) * math.log(nbRatings)\n",
    "            return grade\n",
    "\n",
    "        # UDF\n",
    "        udf_mean_rating_w_log_penalty = F.udf(\n",
    "            lambda arr: _get_mean_rating_w_log_penalty(arr),\n",
    "            DoubleType()\n",
    "        )\n",
    "\n",
    "        # Get top k Best Rated Movies\n",
    "        ranking = self.ratingsTrain.groupBy('movieId') \\\n",
    "              .agg({'rating': 'sum', 'userId': 'count'}) \\\n",
    "              .toDF('movieId', 'sumRating', 'nbRatings')\n",
    "\n",
    "        ranking = ranking \\\n",
    "        .withColumn(\"meanLogUserRating\",\n",
    "         udf_mean_rating_w_log_penalty(F.array(\"sumRating\", \"nbRatings\"))\n",
    "         ) \\\n",
    "        .sort(['meanLogUserRating', 'nbRatings'], ascending=[False, True]) \\\n",
    "        .limit(topk)\n",
    "\n",
    "        self.topRatedMovies = ranking\n",
    "        ratingsTop = [int(row.movieId) for row in ranking.collect()]\n",
    "\n",
    "        return ratingsTop"
   ]
  },
  {
   "cell_type": "code",
   "execution_count": 15,
   "metadata": {},
   "outputs": [
    {
     "name": "stdout",
     "output_type": "stream",
     "text": [
      "CPU times: user 69.4 ms, sys: 12.4 ms, total: 81.8 ms\n",
      "Wall time: 32.1 s\n"
     ]
    }
   ],
   "source": [
    "%%time\n",
    "pbrModel = PopularityRecommenderModel(dfRatingsTrain, dfRatingsTest)\n",
    "resultsPop = pbrModel.generate_recommendations_for_all_users(topk=20)"
   ]
  },
  {
   "cell_type": "code",
   "execution_count": 16,
   "metadata": {},
   "outputs": [
    {
     "name": "stdout",
     "output_type": "stream",
     "text": [
      "+------+--------------------+--------------------+\n",
      "|userId|         predictions|         groundTruth|\n",
      "+------+--------------------+--------------------+\n",
      "|   148|[318, 296, 858, 5...|[858, 1089, 1136,...|\n",
      "|   463|[318, 296, 858, 5...|[32, 648, 780, 78...|\n",
      "|   471|[318, 296, 858, 5...|[95167, 2571, 521...|\n",
      "|   496|[318, 296, 858, 5...|[3910, 44555, 122...|\n",
      "|   833|[318, 296, 858, 5...|[45431, 46578, 98...|\n",
      "+------+--------------------+--------------------+\n",
      "\n",
      "CPU times: user 55.8 ms, sys: 30 ms, total: 85.7 ms\n",
      "Wall time: 1min 33s\n"
     ]
    }
   ],
   "source": [
    "%%time\n",
    "resultsPop.limit(5).orderBy('userId').show(5)"
   ]
  },
  {
   "cell_type": "code",
   "execution_count": 17,
   "metadata": {},
   "outputs": [
    {
     "name": "stdout",
     "output_type": "stream",
     "text": [
      "CPU times: user 562 ms, sys: 58.1 ms, total: 620 ms\n",
      "Wall time: 1min 58s\n"
     ]
    }
   ],
   "source": [
    "%%time\n",
    "results = get_rec_sys_results(resultsPop, dfMovies)"
   ]
  },
  {
   "cell_type": "code",
   "execution_count": 18,
   "metadata": {},
   "outputs": [
    {
     "name": "stdout",
     "output_type": "stream",
     "text": [
      "{'CC': 0.00032039472630280506,\n",
      " 'NDCGk20': 0.12632832305435426,\n",
      " 'Pk20': 0.10125806312494992}\n"
     ]
    }
   ],
   "source": [
    "pprint(results)"
   ]
  },
  {
   "cell_type": "code",
   "execution_count": 19,
   "metadata": {},
   "outputs": [
    {
     "name": "stdout",
     "output_type": "stream",
     "text": [
      "+-------+---------+---------+------------------+------------------------------------------------------------------------------+\n",
      "|movieId|sumRating|nbRatings|meanLogUserRating |title                                                                         |\n",
      "+-------+---------+---------+------------------+------------------------------------------------------------------------------+\n",
      "|318    |251444.5 |56981    |48.32200642241223 |Shawshank Redemption, The (1994)                                              |\n",
      "|296    |233476.0 |55743    |45.77335501425202 |Pulp Fiction (1994)                                                           |\n",
      "|858    |159121.0 |36803    |45.45532488277934 |Godfather, The (1972)                                                         |\n",
      "|50     |165948.5 |38720    |45.27630330905071 |Usual Suspects, The (1995)                                                    |\n",
      "|527    |179594.0 |42294    |45.23353708263301 |Schindler's List (1993)                                                       |\n",
      "|593    |216082.0 |52049    |45.08516477258331 |Silence of the Lambs, The (1991)                                              |\n",
      "|2571   |210869.0 |50745    |45.022654401198956|Matrix, The (1999)                                                            |\n",
      "|2959   |173603.5 |41049    |44.92452813293522 |Fight Club (1999)                                                             |\n",
      "|260    |198706.0 |48264    |44.40023986999179 |Star Wars: Episode IV - A New Hope (1977)                                     |\n",
      "|356    |231598.0 |57226    |44.33476644811912 |Forrest Gump (1994)                                                           |\n",
      "|1196   |166377.0 |40139    |43.937653026516884|Star Wars: Episode V - The Empire Strikes Back (1980)                         |\n",
      "|1198   |158013.0 |38320    |43.51842643850247 |Raiders of the Lost Ark (Indiana Jones and the Raiders of the Lost Ark) (1981)|\n",
      "|2858   |154837.0 |37697    |43.28114869723798 |American Beauty (1999)                                                        |\n",
      "|4993   |160127.5 |39166    |43.23746802953712 |Lord of the Rings: The Fellowship of the Ring, The (2001)                     |\n",
      "|1221   |102362.0 |24041    |42.95072215253253 |Godfather: Part II, The (1974)                                                |\n",
      "|7153   |145912.5 |35685    |42.861866228538794|Lord of the Rings: The Return of the King, The (2003)                         |\n",
      "|58559  |121521.5 |29146    |42.86179531810681 |Dark Knight, The (2008)                                                       |\n",
      "|608    |136872.0 |33300    |42.80152950706202 |Fargo (1996)                                                                  |\n",
      "|1193   |106061.5 |25146    |42.736947520338674|One Flew Over the Cuckoo's Nest (1975)                                        |\n",
      "|47     |144245.5 |35349    |42.736337174865014|Seven (a.k.a. Se7en) (1995)                                                   |\n",
      "+-------+---------+---------+------------------+------------------------------------------------------------------------------+\n",
      "\n",
      "CPU times: user 117 ms, sys: 25.3 ms, total: 143 ms\n",
      "Wall time: 57.5 s\n"
     ]
    }
   ],
   "source": [
    "%%time\n",
    "_ = pbrModel.generate_recommendations_for_all_users(topk=20)\n",
    "pbrModel.topRatedMovies \\\n",
    "    .join(dfMovies.select(['movieId', 'title']), 'movieId') \\\n",
    "    .orderBy('meanLogUserRating', ascending=False) \\\n",
    "    .show(20, truncate=False)"
   ]
  },
  {
   "cell_type": "markdown",
   "metadata": {},
   "source": [
    "# ALS"
   ]
  },
  {
   "cell_type": "code",
   "execution_count": 20,
   "metadata": {},
   "outputs": [
    {
     "name": "stdout",
     "output_type": "stream",
     "text": [
      "CPU times: user 63.7 ms, sys: 44.8 ms, total: 108 ms\n",
      "Wall time: 59.6 s\n"
     ]
    }
   ],
   "source": [
    "%%time\n",
    "tempALS = ALS(maxIter=10, rank=10, regParam=0.1, nonnegative=True,\n",
    "              userCol='userId', itemCol='movieId', ratingCol='rating',\n",
    "              coldStartStrategy='drop', implicitPrefs=False, seed=SEED)\n",
    "\n",
    "mlALSFitted = tempALS.fit(dfRatingsTrain)"
   ]
  },
  {
   "cell_type": "code",
   "execution_count": 21,
   "metadata": {},
   "outputs": [],
   "source": [
    "mlALSFitted.save(RESULTS_PATH+\"/ALS_MovieLens_25M\")"
   ]
  },
  {
   "cell_type": "code",
   "execution_count": 23,
   "metadata": {},
   "outputs": [],
   "source": [
    "mlALSFitted = ALSModel.load(RESULTS_PATH+\"/ALS_MovieLens_25M\")"
   ]
  },
  {
   "cell_type": "markdown",
   "metadata": {},
   "source": [
    "### RMSE"
   ]
  },
  {
   "cell_type": "code",
   "execution_count": 24,
   "metadata": {},
   "outputs": [
    {
     "name": "stdout",
     "output_type": "stream",
     "text": [
      "RMSE (Test Set): 0.8147259683304076\n",
      "CPU times: user 66.4 ms, sys: 25.4 ms, total: 91.8 ms\n",
      "Wall time: 36.1 s\n"
     ]
    }
   ],
   "source": [
    "%%time\n",
    "predictions = mlALSFitted.transform(dfRatingsTest)\n",
    "evaluator = RegressionEvaluator(metricName='rmse', labelCol='rating',\n",
    "                                predictionCol='prediction')\n",
    "rmse = evaluator.evaluate(predictions)\n",
    "print('RMSE (Test Set):', rmse)"
   ]
  },
  {
   "cell_type": "code",
   "execution_count": 25,
   "metadata": {},
   "outputs": [],
   "source": [
    "resultsALS = mlALSFitted.recommendForAllUsers(20)\n",
    "\n",
    "resultsALS = resultsALS.withColumn('recommendations',\n",
    "              udf_format_recommendations(F.col(\"recommendations\"))) \\\n",
    "              .toDF('userId', 'predictions')"
   ]
  },
  {
   "cell_type": "code",
   "execution_count": 27,
   "metadata": {},
   "outputs": [],
   "source": [
    "# Downloaded Packages (not available by Default)\n",
    "import databricks.koalas\n"
   ]
  },
  {
   "cell_type": "code",
   "execution_count": 28,
   "metadata": {},
   "outputs": [],
   "source": [
    "resultsALSExpanded = resultsALS \\\n",
    "                        .withColumn(\"movieId\", F.explode(\"predictions\")) \\\n",
    "                        .drop('predictions') \\\n",
    "                        .join(dfMovies, \"movieId\")\n",
    "\n",
    "resultsALSKdf = resultsALSExpanded.to_koalas()\n",
    "\n",
    "MostRecommendedMoviesForAllUsers = resultsALSKdf.groupby([\"movieId\", \"title\"])['userId'].count()\n",
    "MostRecommendedMoviesForAllUsers = MostRecommendedMoviesForAllUsers.sort_values(ascending=False)"
   ]
  },
  {
   "cell_type": "code",
   "execution_count": 29,
   "metadata": {},
   "outputs": [
    {
     "name": "stdout",
     "output_type": "stream",
     "text": [
      "CPU times: user 5.85 ms, sys: 744 µs, total: 6.59 ms\n",
      "Wall time: 20.6 ms\n"
     ]
    },
    {
     "data": {
      "text/plain": [
       "movieId  title                                             \n",
       "203882   Dead in the Water (2006)                              144255\n",
       "183947   NOFX Backstage Passport 2                             142233\n",
       "194434   Adrenaline (1990)                                     136780\n",
       "196787   The Law and the Fist (1964)                           119244\n",
       "165689   Head Trauma (2006)                                     98235\n",
       "192089   National Theatre Live: One Man, Two Guvnors (2011)     96258\n",
       "143422   2 (2007)                                               90441\n",
       "166812   Seeing Red: Stories of American Communists (1983)      86752\n",
       "117352   A Kind of America 2 (2008)                             84742\n",
       "194334   Les Luthiers: El Grosso Concerto (2001)                82590\n",
       "121919   The Good Mother (2013)                                 74576\n",
       "128667   Wiseguy (1996)                                         74542\n",
       "197355   Once Upon a Ladder (2016)                              72643\n",
       "165559   Ο Θανάσης στη χώρα της σφαλιάρας (1976)                70270\n",
       "201821   Civilisation (1969)                                    64670\n",
       "157789   .hack Liminality In the Case of Yuki Aihara            62246\n",
       "157791   .hack Liminality In the Case of Kyoko Tohno            62012\n",
       "187947   Finger of God (2007)                                   53456\n",
       "187951   Father of Lights (2012)                                53295\n",
       "187949   Furious Love (2010)                                    53125\n",
       "Name: userId, dtype: int64"
      ]
     },
     "execution_count": 29,
     "metadata": {},
     "output_type": "execute_result"
    }
   ],
   "source": [
    "%%time\n",
    "MostRecommendedMoviesForAllUsers.head(20)"
   ]
  },
  {
   "cell_type": "code",
   "execution_count": 30,
   "metadata": {},
   "outputs": [],
   "source": [
    "resultsALS = resultsALS \\\n",
    "                 .join(\n",
    "                 dfRatingsTest \\\n",
    "                 .filter(F.col(\"ratingsBinary\")==1.0) \\\n",
    "                 .withColumn('movieId', F.col('movieId').cast('int')) \\\n",
    "                 .groupby(\"userId\") \\\n",
    "                 .agg(F.collect_list(\"movieId\").alias(\"groundTruth\")),\n",
    "                     'userId'\n",
    "                 )\n",
    "\n",
    "# resultsALS.orderBy('userId').limit(10).show(10)"
   ]
  },
  {
   "cell_type": "code",
   "execution_count": 31,
   "metadata": {},
   "outputs": [
    {
     "name": "stdout",
     "output_type": "stream",
     "text": [
      "CPU times: user 1.29 s, sys: 117 ms, total: 1.4 s\n",
      "Wall time: 5min 23s\n"
     ]
    }
   ],
   "source": [
    "%%time\n",
    "resultsALSMetrics = get_rec_sys_results(resultsALS, dfMovies)"
   ]
  },
  {
   "cell_type": "code",
   "execution_count": 32,
   "metadata": {},
   "outputs": [
    {
     "name": "stdout",
     "output_type": "stream",
     "text": [
      "{'CC': 0.004293289332457588,\n",
      " 'NDCGk20': 4.063936848185454e-06,\n",
      " 'Pk20': 3.080467984696237e-06}\n"
     ]
    }
   ],
   "source": [
    "pprint(resultsALSMetrics)"
   ]
  },
  {
   "cell_type": "code",
   "execution_count": 33,
   "metadata": {},
   "outputs": [],
   "source": [
    "results = {'CC': 0.00032039472630280506,\n",
    " 'NDCGk20': 0.12632832305435426,\n",
    " 'Pk20': 0.10125806312494992}"
   ]
  },
  {
   "cell_type": "code",
   "execution_count": 34,
   "metadata": {},
   "outputs": [],
   "source": [
    "results['RMSE'] = 'N/A'\n",
    "resultsALSMetrics['RMSE'] = rmse"
   ]
  },
  {
   "cell_type": "code",
   "execution_count": 35,
   "metadata": {},
   "outputs": [
    {
     "data": {
      "text/html": [
       "<div>\n",
       "<style scoped>\n",
       "    .dataframe tbody tr th:only-of-type {\n",
       "        vertical-align: middle;\n",
       "    }\n",
       "\n",
       "    .dataframe tbody tr th {\n",
       "        vertical-align: top;\n",
       "    }\n",
       "\n",
       "    .dataframe thead th {\n",
       "        text-align: right;\n",
       "    }\n",
       "</style>\n",
       "<table border=\"1\" class=\"dataframe\">\n",
       "  <thead>\n",
       "    <tr style=\"text-align: right;\">\n",
       "      <th></th>\n",
       "      <th>PopRec</th>\n",
       "      <th>CF-ALS</th>\n",
       "    </tr>\n",
       "  </thead>\n",
       "  <tbody>\n",
       "    <tr>\n",
       "      <th>CC</th>\n",
       "      <td>0.000320395</td>\n",
       "      <td>0.00429329</td>\n",
       "    </tr>\n",
       "    <tr>\n",
       "      <th>NDCGk20</th>\n",
       "      <td>0.126328</td>\n",
       "      <td>4.06394e-06</td>\n",
       "    </tr>\n",
       "    <tr>\n",
       "      <th>Pk20</th>\n",
       "      <td>0.101258</td>\n",
       "      <td>3.08047e-06</td>\n",
       "    </tr>\n",
       "    <tr>\n",
       "      <th>RMSE</th>\n",
       "      <td>N/A</td>\n",
       "      <td>0.814726</td>\n",
       "    </tr>\n",
       "  </tbody>\n",
       "</table>\n",
       "</div>"
      ],
      "text/plain": [
       "              PopRec       CF-ALS\n",
       "CC       0.000320395   0.00429329\n",
       "NDCGk20     0.126328  4.06394e-06\n",
       "Pk20        0.101258  3.08047e-06\n",
       "RMSE             N/A     0.814726"
      ]
     },
     "execution_count": 35,
     "metadata": {},
     "output_type": "execute_result"
    }
   ],
   "source": [
    "modelResults = pd.DataFrame([results, resultsALSMetrics],\n",
    "                             index=['PopRec', 'CF-ALS'])\n",
    "\n",
    "modelResults.transpose()"
   ]
  },
  {
   "cell_type": "code",
   "execution_count": 36,
   "metadata": {},
   "outputs": [
    {
     "name": "stdout",
     "output_type": "stream",
     "text": [
      "CPU times: user 17.5 ms, sys: 8.32 ms, total: 25.8 ms\n",
      "Wall time: 27.2 s\n"
     ]
    },
    {
     "data": {
      "text/plain": [
       "48"
      ]
     },
     "execution_count": 36,
     "metadata": {},
     "output_type": "execute_result"
    }
   ],
   "source": [
    "%%time\n",
    "dfRatingsTrain.filter(F.col(\"userId\")==0).count()"
   ]
  },
  {
   "cell_type": "code",
   "execution_count": 37,
   "metadata": {},
   "outputs": [
    {
     "name": "stdout",
     "output_type": "stream",
     "text": [
      "+-------------------------------------------+------+\n",
      "|title                                      |rating|\n",
      "+-------------------------------------------+------+\n",
      "|The Country Cousin (1936)                  |null  |\n",
      "|Foster (2018)                              |null  |\n",
      "|Cássia (2015)                              |null  |\n",
      "|Insane (2016)                              |null  |\n",
      "|Olga (2004)                                |null  |\n",
      "|Argo (2004)                                |null  |\n",
      "|.hack Liminality In the Case of Yuki Aihara|null  |\n",
      "|NOFX Backstage Passport 2                  |null  |\n",
      "|.hack Liminality In the Case of Kyoko Tohno|null  |\n",
      "|Red, Honest, in Love (1984)                |null  |\n",
      "+-------------------------------------------+------+\n",
      "only showing top 10 rows\n",
      "\n",
      "CPU times: user 75.4 ms, sys: 36.3 ms, total: 112 ms\n",
      "Wall time: 2min 43s\n"
     ]
    }
   ],
   "source": [
    "%%time\n",
    "predictionsPerso = resultsALS.filter(F.col(\"userId\")==0) \\\n",
    "                             .select(F.explode(\"predictions\") \\\n",
    "                             .alias(\"movieId\")) \\\n",
    "                             .join(dfMovies.select([\"movieId\", \"title\"]),\n",
    "                                   \"movieId\") \\\n",
    "                             .join(dfRatings.filter(F.col(\"userId\")==0),\n",
    "                                   ['movieId'], how='left')\n",
    "\n",
    "predictionsPerso.select([\"title\", \"rating\"]).show(10, truncate=False)"
   ]
  },
  {
   "cell_type": "code",
   "execution_count": null,
   "metadata": {},
   "outputs": [],
   "source": []
  }
 ],
 "metadata": {
  "kernelspec": {
   "display_name": "Python 3",
   "language": "python",
   "name": "python3"
  },
  "language_info": {
   "codemirror_mode": {
    "name": "ipython",
    "version": 3
   },
   "file_extension": ".py",
   "mimetype": "text/x-python",
   "name": "python",
   "nbconvert_exporter": "python",
   "pygments_lexer": "ipython3",
   "version": "3.8.6"
  }
 },
 "nbformat": 4,
 "nbformat_minor": 4
}
