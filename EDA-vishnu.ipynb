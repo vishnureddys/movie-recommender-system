{
 "cells": [
  {
   "cell_type": "markdown",
   "metadata": {},
   "source": [
    "# Setup"
   ]
  },
  {
   "cell_type": "code",
   "execution_count": 1,
   "metadata": {},
   "outputs": [],
   "source": [
    "import os"
   ]
  },
  {
   "cell_type": "code",
   "execution_count": 2,
   "metadata": {},
   "outputs": [],
   "source": [
    "!pip install -q Findspark"
   ]
  },
  {
   "cell_type": "code",
   "execution_count": 3,
   "metadata": {},
   "outputs": [
    {
     "data": {
      "text/plain": [
       "'/usr/lib/jvm/java-8-openjdk-amd64'"
      ]
     },
     "execution_count": 3,
     "metadata": {},
     "output_type": "execute_result"
    }
   ],
   "source": [
    "os.environ[\"JAVA_HOME\"]"
   ]
  },
  {
   "cell_type": "code",
   "execution_count": 4,
   "metadata": {},
   "outputs": [
    {
     "data": {
      "text/plain": [
       "'/home/vishnu/hadoop/spark'"
      ]
     },
     "execution_count": 4,
     "metadata": {},
     "output_type": "execute_result"
    }
   ],
   "source": [
    "os.environ[\"SPARK_HOME\"]"
   ]
  },
  {
   "cell_type": "markdown",
   "metadata": {},
   "source": [
    "As we can see above, Java and Spark are configured properly and so we can now go ahead and start loading data."
   ]
  },
  {
   "cell_type": "code",
   "execution_count": 5,
   "metadata": {},
   "outputs": [],
   "source": [
    "import findspark\n",
    "findspark.init()"
   ]
  },
  {
   "cell_type": "code",
   "execution_count": 6,
   "metadata": {},
   "outputs": [],
   "source": [
    "#Start Apache Spark session and context\n",
    "import pyspark\n",
    "from pyspark.sql import SQLContext"
   ]
  },
  {
   "cell_type": "code",
   "execution_count": 8,
   "metadata": {},
   "outputs": [],
   "source": [
    "from pyspark.sql import SparkSession\n",
    "spark = SparkSession.builder.appName('BigDataProject').getOrCreate()"
   ]
  },
  {
   "cell_type": "markdown",
   "metadata": {},
   "source": [
    "# Reading the data"
   ]
  },
  {
   "cell_type": "code",
   "execution_count": 9,
   "metadata": {},
   "outputs": [
    {
     "name": "stdout",
     "output_type": "stream",
     "text": [
      "+------+-------+------+----------+\n",
      "|userId|movieId|rating| timestamp|\n",
      "+------+-------+------+----------+\n",
      "|     1|    296|   5.0|1147880044|\n",
      "|     1|    306|   3.5|1147868817|\n",
      "|     1|    307|   5.0|1147868828|\n",
      "|     1|    665|   5.0|1147878820|\n",
      "|     1|    899|   3.5|1147868510|\n",
      "+------+-------+------+----------+\n",
      "only showing top 5 rows\n",
      "\n"
     ]
    }
   ],
   "source": [
    "ratings = spark.read.option(\"header\", \"true\").csv(\"ml-25m/ratings.csv\")\n",
    "ratings.show(5)"
   ]
  },
  {
   "cell_type": "code",
   "execution_count": 10,
   "metadata": {},
   "outputs": [
    {
     "name": "stdout",
     "output_type": "stream",
     "text": [
      "+-------+--------------------+--------------------+\n",
      "|movieId|               title|              genres|\n",
      "+-------+--------------------+--------------------+\n",
      "|      1|    Toy Story (1995)|Adventure|Animati...|\n",
      "|      2|      Jumanji (1995)|Adventure|Childre...|\n",
      "|      3|Grumpier Old Men ...|      Comedy|Romance|\n",
      "|      4|Waiting to Exhale...|Comedy|Drama|Romance|\n",
      "|      5|Father of the Bri...|              Comedy|\n",
      "+-------+--------------------+--------------------+\n",
      "only showing top 5 rows\n",
      "\n"
     ]
    }
   ],
   "source": [
    "movies = spark.read.option(\"header\", \"true\").csv(\"ml-25m/movies.csv\")\n",
    "movies.show(5)"
   ]
  },
  {
   "cell_type": "markdown",
   "metadata": {},
   "source": [
    "# The most popular Movies"
   ]
  },
  {
   "cell_type": "code",
   "execution_count": 11,
   "metadata": {},
   "outputs": [],
   "source": [
    "from pyspark.sql.functions import *\n",
    "\n",
    "most_popular = ratings\\\n",
    ".groupBy(\"movieId\")\\\n",
    ".agg(count(\"userId\"))\\\n",
    ".withColumnRenamed(\"count(userId)\", \"num_ratings\")\\\n",
    ".sort(desc(\"num_ratings\"))"
   ]
  },
  {
   "cell_type": "code",
   "execution_count": 12,
   "metadata": {},
   "outputs": [
    {
     "name": "stdout",
     "output_type": "stream",
     "text": [
      "+-------+-----------+\n",
      "|movieId|num_ratings|\n",
      "+-------+-----------+\n",
      "|    356|      81491|\n",
      "|    318|      81482|\n",
      "|    296|      79672|\n",
      "|    593|      74127|\n",
      "|   2571|      72674|\n",
      "|    260|      68717|\n",
      "|    480|      64144|\n",
      "|    527|      60411|\n",
      "|    110|      59184|\n",
      "|   2959|      58773|\n",
      "+-------+-----------+\n",
      "only showing top 10 rows\n",
      "\n"
     ]
    }
   ],
   "source": [
    "#To show the top 10 most popular movies.\n",
    "most_popular.show(10)"
   ]
  },
  {
   "cell_type": "markdown",
   "metadata": {},
   "source": [
    "We can see only the movieId and the number of ratings. The name of the movie is contained in the movies.csv file. So we have to use that to display the name of the movie here."
   ]
  },
  {
   "cell_type": "code",
   "execution_count": 20,
   "metadata": {},
   "outputs": [
    {
     "name": "stdout",
     "output_type": "stream",
     "text": [
      "+-------+-----------+-------+--------------------+--------------------+\n",
      "|movieId|num_ratings|movieId|               title|              genres|\n",
      "+-------+-----------+-------+--------------------+--------------------+\n",
      "|    356|      81491|    356| Forrest Gump (1994)|Comedy|Drama|Roma...|\n",
      "|    318|      81482|    318|Shawshank Redempt...|         Crime|Drama|\n",
      "|    296|      79672|    296| Pulp Fiction (1994)|Comedy|Crime|Dram...|\n",
      "|    593|      74127|    593|Silence of the La...|Crime|Horror|Thri...|\n",
      "|   2571|      72674|   2571|  Matrix, The (1999)|Action|Sci-Fi|Thr...|\n",
      "|    260|      68717|    260|Star Wars: Episod...|Action|Adventure|...|\n",
      "|    480|      64144|    480|Jurassic Park (1993)|Action|Adventure|...|\n",
      "|    527|      60411|    527|Schindler's List ...|           Drama|War|\n",
      "|    110|      59184|    110|   Braveheart (1995)|    Action|Drama|War|\n",
      "|   2959|      58773|   2959|   Fight Club (1999)|Action|Crime|Dram...|\n",
      "|    589|      57379|    589|Terminator 2: Jud...|       Action|Sci-Fi|\n",
      "|   1196|      57361|   1196|Star Wars: Episod...|Action|Adventure|...|\n",
      "|      1|      57309|      1|    Toy Story (1995)|Adventure|Animati...|\n",
      "|   4993|      55736|   4993|Lord of the Rings...|   Adventure|Fantasy|\n",
      "|     50|      55366|     50|Usual Suspects, T...|Crime|Mystery|Thr...|\n",
      "+-------+-----------+-------+--------------------+--------------------+\n",
      "only showing top 15 rows\n",
      "\n"
     ]
    }
   ],
   "source": [
    "#Showing the top 15 movies.\n",
    "most_popular_movies = most_popular.join(movies, most_popular.movieId == movies.movieId)\n",
    "most_popular_movies = most_popular_movies \\\n",
    ".sort(desc(\"num_ratings\"))\n",
    "most_popular_movies.show(15)"
   ]
  },
  {
   "cell_type": "markdown",
   "metadata": {},
   "source": [
    "As we can see, most of the movies shown above are really popular and well known."
   ]
  },
  {
   "cell_type": "markdown",
   "metadata": {},
   "source": [
    "# Top Rated Movies"
   ]
  },
  {
   "cell_type": "markdown",
   "metadata": {},
   "source": [
    "If we just sort based on the ratings, we can get movies which have 5 starts but have very few ratings. See the example below."
   ]
  },
  {
   "cell_type": "code",
   "execution_count": 21,
   "metadata": {},
   "outputs": [],
   "source": [
    "top_rated = ratings\\\n",
    ".groupBy(\"movieId\")\\\n",
    ".agg(avg(col(\"rating\")))\\\n",
    ".withColumnRenamed(\"avg(rating)\", \"avg_rating\")\\\n",
    ".sort(desc(\"avg_rating\"))"
   ]
  },
  {
   "cell_type": "code",
   "execution_count": 23,
   "metadata": {},
   "outputs": [
    {
     "name": "stdout",
     "output_type": "stream",
     "text": [
      "+-------+----------+-------+--------------------+--------------------+\n",
      "|movieId|avg_rating|movieId|               title|              genres|\n",
      "+-------+----------+-------+--------------------+--------------------+\n",
      "| 190785|       5.0| 190785|   The Portal (2010)|              Horror|\n",
      "| 178721|       5.0| 178721|Distance Between ...|Action|Adventure|...|\n",
      "| 159349|       5.0| 159349|     Together (2009)|               Drama|\n",
      "| 195641|       5.0| 195641|Final Recourse (2...|      Drama|Thriller|\n",
      "| 139000|       5.0| 139000|   Rabid Love (2013)|  (no genres listed)|\n",
      "| 169816|       5.0| 169816|Day of the Panthe...|              Action|\n",
      "| 200316|       5.0| 200316|First We Take Bro...|         Crime|Drama|\n",
      "| 128137|       5.0| 128137|You're Jinxed, Fr...|  (no genres listed)|\n",
      "| 208477|       5.0| 208477|       Kaithi (2019)|     Action|Thriller|\n",
      "| 178147|       5.0| 178147|Beatles Stories (...|         Documentary|\n",
      "+-------+----------+-------+--------------------+--------------------+\n",
      "only showing top 10 rows\n",
      "\n"
     ]
    }
   ],
   "source": [
    "top_rated_movies = top_rated.join(movies, top_rated.movieId == movies.movieId).sort(desc(\"avg_rating\"))\n",
    "top_rated_movies.show(10)"
   ]
  },
  {
   "cell_type": "markdown",
   "metadata": {},
   "source": [
    "We can see that these movies are have very high average rating but are not really well known. This is because they could have very few 5 star ratings and still be shown here. To avoid this, we will have to consider top rated movies with also a good number of ratings."
   ]
  },
  {
   "cell_type": "code",
   "execution_count": 24,
   "metadata": {},
   "outputs": [
    {
     "name": "stdout",
     "output_type": "stream",
     "text": [
      "+-------+-----------+----------+-------+--------------------+--------------------+\n",
      "|movieId|num_ratings|avg_rating|movieId|               title|              genres|\n",
      "+-------+-----------+----------+-------+--------------------+--------------------+\n",
      "| 165787|          3|       5.0| 165787|Lonesome Dove Chu...|             Western|\n",
      "| 179731|          3|       5.0| 179731|Sound of Christma...|               Drama|\n",
      "| 118268|          3|       5.0| 118268|Borrowed Time (2012)|               Drama|\n",
      "| 148298|          3|       5.0| 148298|       Awaken (2013)|Drama|Romance|Sci-Fi|\n",
      "| 208477|          2|       5.0| 208477|       Kaithi (2019)|     Action|Thriller|\n",
      "| 195641|          2|       5.0| 195641|Final Recourse (2...|      Drama|Thriller|\n",
      "| 169818|          2|       5.0| 169818|FB: Fighting Beat...|              Action|\n",
      "| 148114|          2|       5.0| 148114|The Ties That Bin...|  (no genres listed)|\n",
      "| 179589|          2|       5.0| 179589|  Windstorm 2 (2015)|Adventure|Childre...|\n",
      "| 161944|          2|       5.0| 161944|The Last Brickmak...|               Drama|\n",
      "+-------+-----------+----------+-------+--------------------+--------------------+\n",
      "only showing top 10 rows\n",
      "\n"
     ]
    }
   ],
   "source": [
    "top_rated = ratings\\\n",
    ".groupBy(\"movieId\")\\\n",
    ".agg(count(\"userId\"), avg(col(\"rating\")))\\\n",
    ".withColumnRenamed(\"count(userId)\", \"num_ratings\")\\\n",
    ".withColumnRenamed(\"avg(rating)\", \"avg_rating\")\n",
    "\n",
    "\n",
    "top_rated_movies = top_rated.join(movies, top_rated.movieId == movies.movieId).sort(desc(\"avg_rating\"), desc(\"num_ratings\"))\n",
    "top_rated_movies.show(10)"
   ]
  },
  {
   "cell_type": "markdown",
   "metadata": {},
   "source": [
    "Like you can see above, there are only 3 ratings for the first top rated movie. So we have to set a threshold like around 500 at the least."
   ]
  },
  {
   "cell_type": "code",
   "execution_count": 25,
   "metadata": {},
   "outputs": [
    {
     "name": "stdout",
     "output_type": "stream",
     "text": [
      "+-------+-----------+------------------+-------+--------------------+--------------------+\n",
      "|movieId|num_ratings|        avg_rating|movieId|               title|              genres|\n",
      "+-------+-----------+------------------+-------+--------------------+--------------------+\n",
      "| 171011|       1124| 4.483096085409253| 171011|Planet Earth II (...|         Documentary|\n",
      "| 159817|       1747| 4.464796794504865| 159817| Planet Earth (2006)|         Documentary|\n",
      "|    318|      81482| 4.413576004516335|    318|Shawshank Redempt...|         Crime|Drama|\n",
      "| 170705|       1356| 4.398598820058997| 170705|Band of Brothers ...|    Action|Drama|War|\n",
      "|    858|      52498| 4.324336165187245|    858|Godfather, The (1...|         Crime|Drama|\n",
      "| 179135|        659| 4.289833080424886| 179135|Blue Planet II (2...|         Documentary|\n",
      "|     50|      55366| 4.284353213163313|     50|Usual Suspects, T...|Crime|Mystery|Thr...|\n",
      "|   1221|      34188|4.2617585117585115|   1221|Godfather: Part I...|         Crime|Drama|\n",
      "| 163809|        546| 4.258241758241758| 163809|Over the Garden W...|Adventure|Animati...|\n",
      "|   2019|      13367|  4.25476920775043|   2019|Seven Samurai (Sh...|Action|Adventure|...|\n",
      "| 142115|        564|  4.24822695035461| 142115|The Blue Planet (...|         Documentary|\n",
      "|    527|      60411| 4.247579083279535|    527|Schindler's List ...|           Drama|War|\n",
      "|   1203|      16569| 4.243014062405697|   1203| 12 Angry Men (1957)|               Drama|\n",
      "|    904|      20162| 4.237947624243627|    904|  Rear Window (1954)|    Mystery|Thriller|\n",
      "|   2959|      58773| 4.228310618821568|   2959|   Fight Club (1999)|Action|Crime|Dram...|\n",
      "|   1193|      36058|4.2186616007543405|   1193|One Flew Over the...|               Drama|\n",
      "|    750|      26714| 4.215804447106386|    750|Dr. Strangelove o...|          Comedy|War|\n",
      "|   5618|      22719| 4.212267265284564|   5618|Spirited Away (Se...|Adventure|Animati...|\n",
      "| 166024|       1030| 4.210194174757282| 166024|     Whiplash (2013)|  (no genres listed)|\n",
      "|    912|      26890| 4.206563778356267|    912|   Casablanca (1942)|       Drama|Romance|\n",
      "+-------+-----------+------------------+-------+--------------------+--------------------+\n",
      "only showing top 20 rows\n",
      "\n"
     ]
    }
   ],
   "source": [
    "top_rated_movies.where(\"num_ratings > 500\").show(20)"
   ]
  },
  {
   "cell_type": "markdown",
   "metadata": {},
   "source": [
    "Now we can see that these movies have quite a few ratings are are well known. We can tweak the number of ratings to see movies which have more ratings."
   ]
  },
  {
   "cell_type": "markdown",
   "metadata": {},
   "source": [
    "# Most Polarizing Movies"
   ]
  },
  {
   "cell_type": "markdown",
   "metadata": {},
   "source": [
    "Polarizing movies are those which people either hate or love. Some people love it while a few others hate it.  \n",
    "We can find these by looking for movies which have the highest standard deviation in the ratings. Standard Deviation is a measure of how much the data varies from the mean and so we hope this is a good measure for that."
   ]
  },
  {
   "cell_type": "code",
   "execution_count": 26,
   "metadata": {},
   "outputs": [
    {
     "name": "stdout",
     "output_type": "stream",
     "text": [
      "+-------+-----------+------------------+------------------+-------+--------------------+--------------------+\n",
      "|movieId|num_ratings|        avg_rating|        std_rating|movieId|               title|              genres|\n",
      "+-------+-----------+------------------+------------------+-------+--------------------+--------------------+\n",
      "|  74754|        670| 2.403731343283582|1.6649650528666515|  74754|    Room, The (2003)|Comedy|Drama|Romance|\n",
      "|  62912|        611|2.5106382978723403|1.4888552380190525|  62912|High School Music...|             Musical|\n",
      "|  98203|       1569|2.5242192479286167|1.4560043846864676|  98203|Twilight Saga: Br...|Adventure|Drama|F...|\n",
      "|  27899|        616|2.7767857142857144| 1.445519028350731|  27899|What the #$*! Do ...|Comedy|Documentar...|\n",
      "|  91104|       1896|2.3285864978902953| 1.442346851125679|  91104|Twilight Saga: Br...|Adventure|Drama|F...|\n",
      "|   1924|       2210| 2.613348416289593| 1.417228312413465|   1924|Plan 9 from Outer...|       Horror|Sci-Fi|\n",
      "|  78772|       2857|2.3773188659432973|1.4053033632980292|  78772|Twilight Saga: Ec...|Fantasy|Romance|T...|\n",
      "|  46062|       1165| 2.584978540772532|1.3779333361047366|  46062|High School Music...|Children|Comedy|D...|\n",
      "|  81535|        759|2.7259552042160737|1.3775904753516588|  81535|Saw VII 3D - The ...|Horror|Mystery|Th...|\n",
      "|  72407|       2842| 2.351161154116819|1.3774649810759643|  72407|Twilight Saga: Ne...|Drama|Fantasy|Hor...|\n",
      "|  78174|        700|2.3392857142857144|1.3729814903705224|  78174|Sex and the City ...|Comedy|Drama|Romance|\n",
      "|  61123|        690| 2.508695652173913|1.3661615663530424|  61123|High School Music...|Comedy|Drama|Musi...|\n",
      "| 100083|        592|2.3597972972972974|1.3601552462375284| 100083|     Movie 43 (2013)|              Comedy|\n",
      "|  63992|       6115| 2.391414554374489|1.3592448248808724|  63992|     Twilight (2008)|Drama|Fantasy|Rom...|\n",
      "|   4255|       1721|2.1406159209761766|1.3546798615900135|   4255|Freddy Got Finger...|              Comedy|\n",
      "+-------+-----------+------------------+------------------+-------+--------------------+--------------------+\n",
      "only showing top 15 rows\n",
      "\n"
     ]
    }
   ],
   "source": [
    "ratings_stddev = ratings\\\n",
    ".groupBy(\"movieId\")\\\n",
    ".agg(count(\"userId\").alias(\"num_ratings\"), \n",
    "     avg(col(\"rating\")).alias(\"avg_rating\"),\n",
    "     stddev(col(\"rating\")).alias(\"std_rating\")\n",
    "    )\\\n",
    ".where(\"num_ratings > 500\")\n",
    "\n",
    "marmite_movies = ratings_stddev.join(movies, ratings_stddev.movieId == movies.movieId)\n",
    "marmite_movies.sort(desc(\"std_rating\")).show(15)"
   ]
  },
  {
   "cell_type": "markdown",
   "metadata": {},
   "source": [
    "We can see that these movies are pretty popular and are actually in that category. A simple Google search for these movie ratings shows mixed results. Some really like it and a few hate it."
   ]
  },
  {
   "cell_type": "markdown",
   "metadata": {},
   "source": [
    "# Visualizations"
   ]
  },
  {
   "cell_type": "code",
   "execution_count": 27,
   "metadata": {},
   "outputs": [
    {
     "name": "stdout",
     "output_type": "stream",
     "text": [
      "Defaulting to user installation because normal site-packages is not writeable\n",
      "Collecting koalas\n",
      "  Downloading koalas-1.4.0-py3-none-any.whl (769 kB)\n",
      "\u001b[K     |████████████████████████████████| 769 kB 2.1 MB/s eta 0:00:01\n",
      "\u001b[?25hRequirement already satisfied: pandas>=0.23.2 in /home/vishnu/.local/lib/python3.8/site-packages (from koalas) (1.1.3)\n",
      "Requirement already satisfied: pyarrow>=0.10 in /home/vishnu/.local/lib/python3.8/site-packages (from koalas) (1.0.1)\n",
      "Requirement already satisfied: matplotlib>=3.0.0 in /home/vishnu/.local/lib/python3.8/site-packages (from koalas) (3.3.2)\n",
      "Requirement already satisfied: numpy>=1.14 in /home/vishnu/.local/lib/python3.8/site-packages (from koalas) (1.19.2)\n",
      "Requirement already satisfied: python-dateutil>=2.1 in /home/vishnu/.local/lib/python3.8/site-packages (from matplotlib>=3.0.0->koalas) (2.8.1)\n",
      "Requirement already satisfied: pillow>=6.2.0 in /home/vishnu/.local/lib/python3.8/site-packages (from matplotlib>=3.0.0->koalas) (7.2.0)\n",
      "Requirement already satisfied: kiwisolver>=1.0.1 in /home/vishnu/.local/lib/python3.8/site-packages (from matplotlib>=3.0.0->koalas) (1.2.0)\n",
      "Requirement already satisfied: numpy>=1.14 in /home/vishnu/.local/lib/python3.8/site-packages (from koalas) (1.19.2)\n",
      "Requirement already satisfied: certifi>=2020.06.20 in /home/vishnu/.local/lib/python3.8/site-packages (from matplotlib>=3.0.0->koalas) (2020.6.20)\n",
      "Requirement already satisfied: cycler>=0.10 in /home/vishnu/.local/lib/python3.8/site-packages (from matplotlib>=3.0.0->koalas) (0.10.0)\n",
      "Requirement already satisfied: pyparsing!=2.0.4,!=2.1.2,!=2.1.6,>=2.0.3 in /home/vishnu/.local/lib/python3.8/site-packages (from matplotlib>=3.0.0->koalas) (2.4.7)\n",
      "Requirement already satisfied: six in /home/vishnu/.local/lib/python3.8/site-packages (from cycler>=0.10->matplotlib>=3.0.0->koalas) (1.15.0)\n",
      "Requirement already satisfied: numpy>=1.14 in /home/vishnu/.local/lib/python3.8/site-packages (from koalas) (1.19.2)\n",
      "Requirement already satisfied: pytz>=2017.2 in /home/vishnu/.local/lib/python3.8/site-packages (from pandas>=0.23.2->koalas) (2020.1)\n",
      "Requirement already satisfied: python-dateutil>=2.1 in /home/vishnu/.local/lib/python3.8/site-packages (from matplotlib>=3.0.0->koalas) (2.8.1)\n",
      "Requirement already satisfied: numpy>=1.14 in /home/vishnu/.local/lib/python3.8/site-packages (from koalas) (1.19.2)\n",
      "Requirement already satisfied: six in /home/vishnu/.local/lib/python3.8/site-packages (from cycler>=0.10->matplotlib>=3.0.0->koalas) (1.15.0)\n",
      "Installing collected packages: koalas\n",
      "Successfully installed koalas-1.4.0\n"
     ]
    }
   ],
   "source": [
    "#Installing koalas. Needed for some visualizations.\n",
    "!pip install koalas"
   ]
  },
  {
   "cell_type": "code",
   "execution_count": 29,
   "metadata": {},
   "outputs": [
    {
     "name": "stdout",
     "output_type": "stream",
     "text": [
      "Defaulting to user installation because normal site-packages is not writeable\n",
      "Collecting seaborn\n",
      "  Downloading seaborn-0.11.0-py3-none-any.whl (283 kB)\n",
      "\u001b[K     |████████████████████████████████| 283 kB 2.1 MB/s eta 0:00:01\n",
      "\u001b[?25hRequirement already satisfied: matplotlib>=2.2 in /home/vishnu/.local/lib/python3.8/site-packages (from seaborn) (3.3.2)\n",
      "Requirement already satisfied: scipy>=1.0 in /home/vishnu/.local/lib/python3.8/site-packages (from seaborn) (1.5.2)\n",
      "Requirement already satisfied: numpy>=1.15 in /home/vishnu/.local/lib/python3.8/site-packages (from seaborn) (1.19.2)\n",
      "Requirement already satisfied: pandas>=0.23 in /home/vishnu/.local/lib/python3.8/site-packages (from seaborn) (1.1.3)\n",
      "Requirement already satisfied: cycler>=0.10 in /home/vishnu/.local/lib/python3.8/site-packages (from matplotlib>=2.2->seaborn) (0.10.0)\n",
      "Requirement already satisfied: certifi>=2020.06.20 in /home/vishnu/.local/lib/python3.8/site-packages (from matplotlib>=2.2->seaborn) (2020.6.20)\n",
      "Requirement already satisfied: numpy>=1.15 in /home/vishnu/.local/lib/python3.8/site-packages (from seaborn) (1.19.2)\n",
      "Requirement already satisfied: pillow>=6.2.0 in /home/vishnu/.local/lib/python3.8/site-packages (from matplotlib>=2.2->seaborn) (7.2.0)\n",
      "Requirement already satisfied: kiwisolver>=1.0.1 in /home/vishnu/.local/lib/python3.8/site-packages (from matplotlib>=2.2->seaborn) (1.2.0)\n",
      "Requirement already satisfied: python-dateutil>=2.1 in /home/vishnu/.local/lib/python3.8/site-packages (from matplotlib>=2.2->seaborn) (2.8.1)\n",
      "Requirement already satisfied: pyparsing!=2.0.4,!=2.1.2,!=2.1.6,>=2.0.3 in /home/vishnu/.local/lib/python3.8/site-packages (from matplotlib>=2.2->seaborn) (2.4.7)\n",
      "Requirement already satisfied: six in /home/vishnu/.local/lib/python3.8/site-packages (from cycler>=0.10->matplotlib>=2.2->seaborn) (1.15.0)\n",
      "Requirement already satisfied: pytz>=2017.2 in /home/vishnu/.local/lib/python3.8/site-packages (from pandas>=0.23->seaborn) (2020.1)\n",
      "Requirement already satisfied: numpy>=1.15 in /home/vishnu/.local/lib/python3.8/site-packages (from seaborn) (1.19.2)\n",
      "Requirement already satisfied: python-dateutil>=2.1 in /home/vishnu/.local/lib/python3.8/site-packages (from matplotlib>=2.2->seaborn) (2.8.1)\n",
      "Requirement already satisfied: six in /home/vishnu/.local/lib/python3.8/site-packages (from cycler>=0.10->matplotlib>=2.2->seaborn) (1.15.0)\n",
      "Requirement already satisfied: numpy>=1.15 in /home/vishnu/.local/lib/python3.8/site-packages (from seaborn) (1.19.2)\n",
      "Installing collected packages: seaborn\n",
      "Successfully installed seaborn-0.11.0\n"
     ]
    }
   ],
   "source": [
    "!pip install seaborn"
   ]
  },
  {
   "cell_type": "code",
   "execution_count": 36,
   "metadata": {},
   "outputs": [],
   "source": [
    "#Importing packages needed for visualizations\n",
    "import math\n",
    "import numpy as np\n",
    "import pandas as pd\n",
    "import matplotlib.pyplot as plt\n",
    "import matplotlib.ticker as ticker\n",
    "import seaborn as sns\n",
    "import random\n",
    "from pprint import pprint\n",
    "from matplotlib.lines import Line2D\n",
    "import databricks.koalas\n",
    "\n",
    "#Set-up\n",
    "plt.style.use('ggplot')"
   ]
  },
  {
   "cell_type": "markdown",
   "metadata": {},
   "source": [
    "### Number of Ratings Per User"
   ]
  },
  {
   "cell_type": "code",
   "execution_count": 31,
   "metadata": {},
   "outputs": [],
   "source": [
    "dfRatingsKdf = ratings.to_koalas()"
   ]
  },
  {
   "cell_type": "code",
   "execution_count": 37,
   "metadata": {},
   "outputs": [
    {
     "name": "stderr",
     "output_type": "stream",
     "text": [
      "<ipython-input-37-e79b2cda0784>:7: UserWarning: FixedFormatter should only be used together with FixedLocator\n",
      "  ax.set_xticklabels(['{:,}'.format(int(x)) for x in ax.get_xticks().tolist()])\n",
      "<ipython-input-37-e79b2cda0784>:8: UserWarning: FixedFormatter should only be used together with FixedLocator\n",
      "  ax.set_yticklabels(['{:,}'.format(int(x)) for x in ax.get_yticks().tolist()])\n"
     ]
    },
    {
     "data": {
      "image/png": "[encoded data removed]",
      "text/plain": [
       "<Figure size 864x432 with 1 Axes>"
      ]
     },
     "metadata": {},
     "output_type": "display_data"
    }
   ],
   "source": [
    "f, ax = plt.subplots(figsize=(12,6))\n",
    "userRatingGroup = dfRatingsKdf.groupby(\"userId\")['rating'].count()\n",
    "userRatingGroup.hist(bins=100, color='blue', edgecolor='black',\n",
    "                     linewidth=1.25, alpha=0.78, ax=ax)\n",
    "ax.set_xlabel('Nb. of Ratings per User')\n",
    "ax.set_xlim(0.0)\n",
    "ax.set_xticklabels(['{:,}'.format(int(x)) for x in ax.get_xticks().tolist()])\n",
    "ax.set_yticklabels(['{:,}'.format(int(x)) for x in ax.get_yticks().tolist()])\n",
    "plt.show()"
   ]
  },
  {
   "cell_type": "markdown",
   "metadata": {},
   "source": [
    "We can see from the above graph that most number of uesrs i.e. greater than 1,40,000 of them have rated very few movies."
   ]
  },
  {
   "cell_type": "markdown",
   "metadata": {},
   "source": [
    "### Number of Ratings Per Movie"
   ]
  },
  {
   "cell_type": "code",
   "execution_count": 33,
   "metadata": {},
   "outputs": [
    {
     "name": "stderr",
     "output_type": "stream",
     "text": [
      "<ipython-input-33-ecf209e2b523>:7: UserWarning: FixedFormatter should only be used together with FixedLocator\n",
      "  ax.set_xticklabels(['{:,}'.format(int(x)) for x in ax.get_xticks().tolist()])\n",
      "<ipython-input-33-ecf209e2b523>:8: UserWarning: FixedFormatter should only be used together with FixedLocator\n",
      "  ax.set_yticklabels(['{:,}'.format(int(x)) for x in ax.get_yticks().tolist()])\n"
     ]
    },
    {
     "data": {
      "image/png": "[encoded data removed]",
      "text/plain": [
       "<Figure size 864x432 with 1 Axes>"
      ]
     },
     "metadata": {},
     "output_type": "display_data"
    }
   ],
   "source": [
    "f, ax = plt.subplots(figsize=(12,6))\n",
    "movieRatingGroup = dfRatingsKdf.groupby(\"movieId\")['rating'].count()\n",
    "movieRatingGroup.hist(bins=100, color='blue', edgecolor='black',\n",
    "                      linewidth=1.25, alpha=0.78, ax=ax)\n",
    "ax.set_xlabel('Nb. of Ratings per Movie')\n",
    "ax.set_xlim(0.0)\n",
    "ax.set_xticklabels(['{:,}'.format(int(x)) for x in ax.get_xticks().tolist()])\n",
    "ax.set_yticklabels(['{:,}'.format(int(x)) for x in ax.get_yticks().tolist()])\n",
    "plt.show()"
   ]
  },
  {
   "cell_type": "markdown",
   "metadata": {},
   "source": [
    "This is the same case as above."
   ]
  },
  {
   "cell_type": "markdown",
   "metadata": {},
   "source": [
    "### //TODO"
   ]
  },
  {
   "cell_type": "code",
   "execution_count": 34,
   "metadata": {},
   "outputs": [
    {
     "name": "stderr",
     "output_type": "stream",
     "text": [
      "<ipython-input-34-ea03d2073857>:19: UserWarning: FixedFormatter should only be used together with FixedLocator\n",
      "  ax.set_yticklabels(['{:,}'.format(int(x)) for x in ax.get_yticks().tolist()])\n"
     ]
    },
    {
     "data": {
      "image/png": "[encoded data removed]",
      "text/plain": [
       "<Figure size 864x432 with 1 Axes>"
      ]
     },
     "metadata": {},
     "output_type": "display_data"
    }
   ],
   "source": [
    "movieRatingDistGroup = dfRatingsKdf['rating'].value_counts() \\\n",
    "                                             .sort_index() \\\n",
    "                                             .reset_index() \\\n",
    "                                             .to_pandas()\n",
    "\n",
    "# Create Matplotlib Figure\n",
    "fig, ax = plt.subplots(figsize=(12,6))\n",
    "\n",
    "# Main Figure: Seaborn Barplot\n",
    "sns.barplot(data=movieRatingDistGroup, x='index', y='rating',\n",
    "            palette='RdYlGn', edgecolor=\"black\", ax=ax)\n",
    "\n",
    "# Set Xaxis and Yaxis\n",
    "ax.set_xlabel(\"User-Movie Ratings\")\n",
    "ax.set_ylabel('Nb. of Users')\n",
    "ax.xaxis.set_tick_params(rotation=45)\n",
    "\n",
    "# Thousand separator on Yaxis labels\n",
    "ax.set_yticklabels(['{:,}'.format(int(x)) for x in ax.get_yticks().tolist()])\n",
    "\n",
    "# Add percentage text on top of each bar\n",
    "total = float(movieRatingDistGroup['rating'].sum())\n",
    "for p in ax.patches:\n",
    "    height = p.get_height()\n",
    "    ax.text(p.get_x()+p.get_width()/2.,\n",
    "            height+350,\n",
    "            '{0:.0%}'.format(height/total),\n",
    "            ha=\"center\") \n",
    "\n",
    "# Display plot\n",
    "plt.show()"
   ]
  },
  {
   "cell_type": "code",
   "execution_count": null,
   "metadata": {},
   "outputs": [],
   "source": []
  }
 ],
 "metadata": {
  "kernelspec": {
   "display_name": "Python 3",
   "language": "python",
   "name": "python3"
  },
  "language_info": {
   "codemirror_mode": {
    "name": "ipython",
    "version": 3
   },
   "file_extension": ".py",
   "mimetype": "text/x-python",
   "name": "python",
   "nbconvert_exporter": "python",
   "pygments_lexer": "ipython3",
   "version": "3.8.6"
  }
 },
 "nbformat": 4,
 "nbformat_minor": 4
}
