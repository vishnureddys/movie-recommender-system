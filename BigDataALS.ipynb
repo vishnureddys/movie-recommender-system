{
 "cells": [
  {
   "cell_type": "code",
   "execution_count": 1,
   "metadata": {
    "id": "h6dytr5FStC8"
   },
   "outputs": [],
   "source": [
    "import os"
   ]
  },
  {
   "cell_type": "code",
   "execution_count": 2,
   "metadata": {
    "colab": {
     "base_uri": "https://localhost:8080/"
    },
    "id": "byEUVPLZUG0m",
    "outputId": "b007cc1c-e620-4f3e-ee1d-74a7a4801273"
   },
   "outputs": [
    {
     "name": "stdout",
     "output_type": "stream",
     "text": [
      "update-alternatives: using /usr/lib/jvm/java-8-openjdk-amd64/jre/bin/java to provide /usr/bin/java (java) in manual mode\n"
     ]
    }
   ],
   "source": [
    "!apt-get install openjdk-8-jdk-headless -qq > /dev/null\n",
    "!wget -q https://downloads.apache.org/spark/spark-2.4.7/spark-2.4.7-bin-hadoop2.7.tgz\n",
    "!tar xf spark-2.4.7-bin-hadoop2.7.tgz\n",
    "!pip install -q Findspark\n",
    "!update-alternatives --set java /usr/lib/jvm/java-8-openjdk-amd64/jre/bin/java\n",
    "os.environ[\"JAVA_HOME\"] = \"/usr/lib/jvm/java-8-openjdk-amd64\"\n",
    "os.environ[\"SPARK_HOME\"] = \"/content/spark-2.4.7-bin-hadoop2.7\""
   ]
  },
  {
   "cell_type": "code",
   "execution_count": 3,
   "metadata": {
    "colab": {
     "base_uri": "https://localhost:8080/",
     "height": 35
    },
    "id": "Sb4iM9KAUI6j",
    "outputId": "9bb3e03a-4b27-4f1a-f28b-c725a3242ea9"
   },
   "outputs": [
    {
     "data": {
      "application/vnd.google.colaboratory.intrinsic+json": {
       "type": "string"
      },
      "text/plain": [
       "'/usr/lib/jvm/java-8-openjdk-amd64'"
      ]
     },
     "execution_count": 3,
     "metadata": {
      "tags": []
     },
     "output_type": "execute_result"
    }
   ],
   "source": [
    "os.environ[\"JAVA_HOME\"]"
   ]
  },
  {
   "cell_type": "code",
   "execution_count": 4,
   "metadata": {
    "colab": {
     "base_uri": "https://localhost:8080/",
     "height": 35
    },
    "id": "A9GaIG6oUOFv",
    "outputId": "6e7ef4a6-a4ae-4667-d4cb-f66b8c58f78a"
   },
   "outputs": [
    {
     "data": {
      "application/vnd.google.colaboratory.intrinsic+json": {
       "type": "string"
      },
      "text/plain": [
       "'/content/spark-2.4.7-bin-hadoop2.7'"
      ]
     },
     "execution_count": 4,
     "metadata": {
      "tags": []
     },
     "output_type": "execute_result"
    }
   ],
   "source": [
    "os.environ[\"SPARK_HOME\"]"
   ]
  },
  {
   "cell_type": "code",
   "execution_count": 5,
   "metadata": {
    "id": "uont-7Q6UPrQ"
   },
   "outputs": [],
   "source": [
    "import findspark\n",
    "findspark.init()\n",
    "import pyspark\n",
    "from pyspark.sql import SQLContext\n",
    "from pyspark.sql import SparkSession\n",
    "spark = SparkSession.builder.appName('BigDataProjectRecommendation').getOrCreate()"
   ]
  },
  {
   "cell_type": "code",
   "execution_count": 6,
   "metadata": {
    "colab": {
     "base_uri": "https://localhost:8080/"
    },
    "id": "Nao8QVz8Uumo",
    "outputId": "4cfae079-de7a-4eaa-d0e6-9c6354ed9fc8"
   },
   "outputs": [
    {
     "name": "stdout",
     "output_type": "stream",
     "text": [
      "Mounted at /content/drive\n"
     ]
    }
   ],
   "source": [
    "from google.colab import drive\n",
    "drive.mount('/content/drive');"
   ]
  },
  {
   "cell_type": "code",
   "execution_count": 7,
   "metadata": {
    "colab": {
     "base_uri": "https://localhost:8080/"
    },
    "id": "BnzXDcWDUw_u",
    "outputId": "b9776974-d9a1-4516-a9e5-0ed8877a3753"
   },
   "outputs": [
    {
     "name": "stdout",
     "output_type": "stream",
     "text": [
      "Data  Results\n"
     ]
    }
   ],
   "source": [
    "!ls \"drive/My Drive/Big_Data_Movie_Recommender\"\n",
    "DATA_PATH = \"drive/My Drive/Big_Data_Movie_Recommender/Data\"\n",
    "RESULTS_PATH = \"drive/My Drive/Big_Data_Movie_Recommender/Results\""
   ]
  },
  {
   "cell_type": "code",
   "execution_count": 8,
   "metadata": {
    "id": "DrpAup5IU9Tw"
   },
   "outputs": [],
   "source": [
    "ratings = spark.read.option(\"header\", \"true\").csv(DATA_PATH+\"/ratings.csv\")\n",
    "movies = spark.read.option(\"header\", \"true\").csv(DATA_PATH+\"/movies.csv\")"
   ]
  },
  {
   "cell_type": "code",
   "execution_count": 9,
   "metadata": {
    "id": "af4Aj653XD8m"
   },
   "outputs": [],
   "source": [
    "from pyspark.ml.recommendation import ALS"
   ]
  },
  {
   "cell_type": "code",
   "execution_count": 11,
   "metadata": {
    "id": "MoSWMv7jXIvE"
   },
   "outputs": [],
   "source": [
    "df_train, df_test = (ratings.randomSplit([0.7, 0.3], seed = 1))"
   ]
  },
  {
   "cell_type": "code",
   "execution_count": 12,
   "metadata": {
    "colab": {
     "base_uri": "https://localhost:8080/"
    },
    "id": "o-VUGGnkXXF-",
    "outputId": "8e3d226e-7cfd-4233-80db-5d2665c3633f"
   },
   "outputs": [
    {
     "name": "stdout",
     "output_type": "stream",
     "text": [
      "+------+-------+------+----------+\n",
      "|userId|movieId|rating| timestamp|\n",
      "+------+-------+------+----------+\n",
      "|     1|   1088|   4.0|1147868495|\n",
      "|     1|   1175|   3.5|1147868826|\n",
      "|     1|   1217|   3.5|1147878326|\n",
      "|     1|   1237|   5.0|1147868839|\n",
      "|     1|   1260|   3.5|1147877857|\n",
      "|     1|   1653|   4.0|1147868097|\n",
      "|     1|   2011|   2.5|1147868079|\n",
      "|     1|   2012|   2.5|1147868068|\n",
      "|     1|   2068|   2.5|1147869044|\n",
      "|     1|   2351|   4.5|1147877957|\n",
      "|     1|   2573|   4.0|1147878923|\n",
      "|     1|   2632|   5.0|1147878248|\n",
      "|     1|   2692|   5.0|1147869100|\n",
      "|     1|  27193|   3.0|1147879774|\n",
      "|     1|  27721|   3.0|1147869115|\n",
      "|     1|    296|   5.0|1147880044|\n",
      "|     1|    307|   5.0|1147868828|\n",
      "|     1|  31956|   3.5|1147877610|\n",
      "|     1|  32591|   5.0|1147879538|\n",
      "|     1|   3569|   5.0|1147879603|\n",
      "+------+-------+------+----------+\n",
      "only showing top 20 rows\n",
      "\n"
     ]
    }
   ],
   "source": [
    "df_train.show()"
   ]
  },
  {
   "cell_type": "code",
   "execution_count": 22,
   "metadata": {
    "id": "Hn1YLj2sXL9G"
   },
   "outputs": [],
   "source": [
    "from pyspark.sql.types import IntegerType\n",
    "\n",
    "df_train = df_train.withColumn(\"userId\",df_train['userId'].cast(IntegerType())) \\\n",
    "                   .withColumn(\"movieId\",df_train['movieId'].cast(IntegerType())) \\\n",
    "                   .withColumn(\"rating\",df_train['rating'].cast(IntegerType()))\n"
   ]
  },
  {
   "cell_type": "code",
   "execution_count": 61,
   "metadata": {
    "id": "1VBF-yccXvFR"
   },
   "outputs": [],
   "source": [
    "als = ALS(rank=10, maxIter=5, seed=0, userCol= \"userId\", itemCol= \"movieId\", ratingCol=\"rating\")\n",
    "als.setColdStartStrategy('drop')\n",
    "als_model = als.fit(df_train)"
   ]
  },
  {
   "cell_type": "code",
   "execution_count": 24,
   "metadata": {
    "id": "qABfjcnyaqw9"
   },
   "outputs": [],
   "source": [
    "from pyspark.ml.evaluation import RegressionEvaluator"
   ]
  },
  {
   "cell_type": "code",
   "execution_count": 25,
   "metadata": {
    "id": "QBsTK2RwbXMe"
   },
   "outputs": [],
   "source": [
    "reg_eval = RegressionEvaluator(predictionCol=\"prediction\", labelCol=\"rating\", metricName=\"rmse\")"
   ]
  },
  {
   "cell_type": "code",
   "execution_count": 35,
   "metadata": {
    "colab": {
     "base_uri": "https://localhost:8080/"
    },
    "id": "iFkruSqucodz",
    "outputId": "14961e8e-86a2-454f-fa9c-4deae147715b"
   },
   "outputs": [
    {
     "data": {
      "text/plain": [
       "17502939"
      ]
     },
     "execution_count": 35,
     "metadata": {
      "tags": []
     },
     "output_type": "execute_result"
    }
   ],
   "source": [
    "df_train.count()"
   ]
  },
  {
   "cell_type": "code",
   "execution_count": 36,
   "metadata": {
    "colab": {
     "base_uri": "https://localhost:8080/"
    },
    "id": "enm_b7T3dbYE",
    "outputId": "2c860ed2-f746-4e0a-8630-f7a15650a5b5"
   },
   "outputs": [
    {
     "data": {
      "text/plain": [
       "62423"
      ]
     },
     "execution_count": 36,
     "metadata": {
      "tags": []
     },
     "output_type": "execute_result"
    }
   ],
   "source": [
    "movies.count()"
   ]
  },
  {
   "cell_type": "code",
   "execution_count": 33,
   "metadata": {
    "id": "gu6ABsgYcQmI"
   },
   "outputs": [],
   "source": [
    "import pandas as pd\n",
    "pd.set_option('display.max_colwidth',None)"
   ]
  },
  {
   "cell_type": "code",
   "execution_count": 34,
   "metadata": {
    "colab": {
     "base_uri": "https://localhost:8080/",
     "height": 570
    },
    "id": "nyQ87H8nbdHE",
    "outputId": "b02f253e-acba-4bd6-caeb-5d369b85f190"
   },
   "outputs": [
    {
     "data": {
      "text/html": [
       "<div>\n",
       "<style scoped>\n",
       "    .dataframe tbody tr th:only-of-type {\n",
       "        vertical-align: middle;\n",
       "    }\n",
       "\n",
       "    .dataframe tbody tr th {\n",
       "        vertical-align: top;\n",
       "    }\n",
       "\n",
       "    .dataframe thead th {\n",
       "        text-align: right;\n",
       "    }\n",
       "</style>\n",
       "<table border=\"1\" class=\"dataframe\">\n",
       "  <thead>\n",
       "    <tr style=\"text-align: right;\">\n",
       "      <th></th>\n",
       "      <th>id</th>\n",
       "      <th>features</th>\n",
       "    </tr>\n",
       "  </thead>\n",
       "  <tbody>\n",
       "    <tr>\n",
       "      <th>0</th>\n",
       "      <td>10</td>\n",
       "      <td>[0.025030001997947693, -0.15706470608711243, -0.7125052213668823, 0.5534553527832031, -0.4547816216945648, -0.6850728392601013, -0.02034790813922882, 0.7225993871688843, 0.3338954746723175, 0.5894351601600647]</td>\n",
       "    </tr>\n",
       "    <tr>\n",
       "      <th>1</th>\n",
       "      <td>20</td>\n",
       "      <td>[-0.016555173322558403, 0.20084144175052643, -0.7855822443962097, 0.32502689957618713, -0.43446433544158936, -0.8430556654930115, -0.2627929449081421, 0.32083219289779663, 0.00761453527957201, 0.4773748815059662]</td>\n",
       "    </tr>\n",
       "    <tr>\n",
       "      <th>2</th>\n",
       "      <td>30</td>\n",
       "      <td>[-0.5490902066230774, -0.4576345980167389, -0.45613765716552734, 0.8040887713432312, -0.35709503293037415, -0.8311018347740173, -0.18651041388511658, 0.6749392151832581, 0.06978724151849747, -0.2113349586725235]</td>\n",
       "    </tr>\n",
       "    <tr>\n",
       "      <th>3</th>\n",
       "      <td>40</td>\n",
       "      <td>[-0.26931577920913696, -0.7781033515930176, -0.6253662705421448, 0.6695196628570557, -0.627173900604248, -0.8440384864807129, -0.5844224095344543, 0.2798468768596649, 0.17067402601242065, -0.21850799024105072]</td>\n",
       "    </tr>\n",
       "    <tr>\n",
       "      <th>4</th>\n",
       "      <td>50</td>\n",
       "      <td>[-0.1771986037492752, -0.4208698868751526, -0.7888234257698059, 0.9405423998832703, -0.1371450275182724, -0.9908616542816162, -0.017619265243411064, 0.9093695282936096, 0.28146111965179443, 0.08991490304470062]</td>\n",
       "    </tr>\n",
       "    <tr>\n",
       "      <th>...</th>\n",
       "      <td>...</td>\n",
       "      <td>...</td>\n",
       "    </tr>\n",
       "    <tr>\n",
       "      <th>55120</th>\n",
       "      <td>209119</td>\n",
       "      <td>[0.05715878680348396, -0.029551083222031593, -0.26570358872413635, 0.7993663549423218, -0.05546528473496437, -0.4180419147014618, -0.34509679675102234, 0.5956115126609802, 0.2083600014448166, 0.165347158908844]</td>\n",
       "    </tr>\n",
       "    <tr>\n",
       "      <th>55121</th>\n",
       "      <td>209129</td>\n",
       "      <td>[-0.14975421130657196, 0.09460978209972382, 0.15954715013504028, 1.10838782787323, -0.035872142761945724, -0.8518288135528564, -0.1743745654821396, 1.0619900226593018, 0.30995625257492065, 0.2502687871456146]</td>\n",
       "    </tr>\n",
       "    <tr>\n",
       "      <th>55122</th>\n",
       "      <td>209139</td>\n",
       "      <td>[-0.03968313708901405, 0.024427734315395355, -0.14824500679969788, 0.09329432994127274, 0.021550556644797325, -0.24797090888023376, -0.06280148029327393, 0.2760414183139801, 0.05714036896824837, 0.035864830017089844]</td>\n",
       "    </tr>\n",
       "    <tr>\n",
       "      <th>55123</th>\n",
       "      <td>209159</td>\n",
       "      <td>[-0.11231565475463867, 0.07095733284950256, 0.11966035515069962, 0.8312908411026001, -0.02690410614013672, -0.6388716101646423, -0.13078093528747559, 0.7964924573898315, 0.2324671894311905, 0.18770159780979156]</td>\n",
       "    </tr>\n",
       "    <tr>\n",
       "      <th>55124</th>\n",
       "      <td>209169</td>\n",
       "      <td>[-0.06356268376111984, -0.05725187808275223, -0.22416581213474274, 0.8340944647789001, -0.24577204883098602, -0.31813845038414, -0.14067450165748596, 0.6382700204849243, -0.16215729713439941, 0.025990810245275497]</td>\n",
       "    </tr>\n",
       "  </tbody>\n",
       "</table>\n",
       "<p>55125 rows × 2 columns</p>\n",
       "</div>"
      ],
      "text/plain": [
       "           id                                                                                                                                                                                                                  features\n",
       "0          10         [0.025030001997947693, -0.15706470608711243, -0.7125052213668823, 0.5534553527832031, -0.4547816216945648, -0.6850728392601013, -0.02034790813922882, 0.7225993871688843, 0.3338954746723175, 0.5894351601600647]\n",
       "1          20      [-0.016555173322558403, 0.20084144175052643, -0.7855822443962097, 0.32502689957618713, -0.43446433544158936, -0.8430556654930115, -0.2627929449081421, 0.32083219289779663, 0.00761453527957201, 0.4773748815059662]\n",
       "2          30       [-0.5490902066230774, -0.4576345980167389, -0.45613765716552734, 0.8040887713432312, -0.35709503293037415, -0.8311018347740173, -0.18651041388511658, 0.6749392151832581, 0.06978724151849747, -0.2113349586725235]\n",
       "3          40         [-0.26931577920913696, -0.7781033515930176, -0.6253662705421448, 0.6695196628570557, -0.627173900604248, -0.8440384864807129, -0.5844224095344543, 0.2798468768596649, 0.17067402601242065, -0.21850799024105072]\n",
       "4          50        [-0.1771986037492752, -0.4208698868751526, -0.7888234257698059, 0.9405423998832703, -0.1371450275182724, -0.9908616542816162, -0.017619265243411064, 0.9093695282936096, 0.28146111965179443, 0.08991490304470062]\n",
       "...       ...                                                                                                                                                                                                                       ...\n",
       "55120  209119        [0.05715878680348396, -0.029551083222031593, -0.26570358872413635, 0.7993663549423218, -0.05546528473496437, -0.4180419147014618, -0.34509679675102234, 0.5956115126609802, 0.2083600014448166, 0.165347158908844]\n",
       "55121  209129          [-0.14975421130657196, 0.09460978209972382, 0.15954715013504028, 1.10838782787323, -0.035872142761945724, -0.8518288135528564, -0.1743745654821396, 1.0619900226593018, 0.30995625257492065, 0.2502687871456146]\n",
       "55122  209139  [-0.03968313708901405, 0.024427734315395355, -0.14824500679969788, 0.09329432994127274, 0.021550556644797325, -0.24797090888023376, -0.06280148029327393, 0.2760414183139801, 0.05714036896824837, 0.035864830017089844]\n",
       "55123  209159        [-0.11231565475463867, 0.07095733284950256, 0.11966035515069962, 0.8312908411026001, -0.02690410614013672, -0.6388716101646423, -0.13078093528747559, 0.7964924573898315, 0.2324671894311905, 0.18770159780979156]\n",
       "55124  209169     [-0.06356268376111984, -0.05725187808275223, -0.22416581213474274, 0.8340944647789001, -0.24577204883098602, -0.31813845038414, -0.14067450165748596, 0.6382700204849243, -0.16215729713439941, 0.025990810245275497]\n",
       "\n",
       "[55125 rows x 2 columns]"
      ]
     },
     "execution_count": 34,
     "metadata": {
      "tags": []
     },
     "output_type": "execute_result"
    }
   ],
   "source": [
    "als_model.itemFactors.toPandas()"
   ]
  },
  {
   "cell_type": "code",
   "execution_count": 62,
   "metadata": {
    "id": "HNUiht_Ld244"
   },
   "outputs": [],
   "source": [
    "training_predictions_df = als_model.transform(df_train)"
   ]
  },
  {
   "cell_type": "code",
   "execution_count": 39,
   "metadata": {
    "colab": {
     "base_uri": "https://localhost:8080/"
    },
    "id": "OdV8QTBBei5R",
    "outputId": "e6ed465c-6292-4187-fc01-38ce6a636be6"
   },
   "outputs": [
    {
     "data": {
      "text/plain": [
       "pyspark.sql.dataframe.DataFrame"
      ]
     },
     "execution_count": 39,
     "metadata": {
      "tags": []
     },
     "output_type": "execute_result"
    }
   ],
   "source": [
    "type(training_predictions_df)"
   ]
  },
  {
   "cell_type": "code",
   "execution_count": 40,
   "metadata": {
    "colab": {
     "base_uri": "https://localhost:8080/"
    },
    "id": "qEeYOe6ahHI7",
    "outputId": "7bf9aff9-66a5-4746-c261-9f8c6f7b5bff"
   },
   "outputs": [
    {
     "name": "stdout",
     "output_type": "stream",
     "text": [
      "+------+-------+------+----------+----------+\n",
      "|userId|movieId|rating| timestamp|prediction|\n",
      "+------+-------+------+----------+----------+\n",
      "| 32855|    148|     4|1029309135| 2.3990471|\n",
      "| 26480|    148|     2| 915406133| 1.9864883|\n",
      "| 38199|    148|     2| 835601960| 2.4336302|\n",
      "|159730|    148|     3| 842162037|  2.716928|\n",
      "| 33354|    148|     3| 938886119| 2.6935844|\n",
      "| 47989|    148|     2| 833173771| 2.9645228|\n",
      "| 72337|    148|     2| 944246202|  2.777789|\n",
      "|151614|    148|     1| 878170956|  2.731505|\n",
      "|  5055|    148|     3| 842463284| 2.8496578|\n",
      "|108767|    148|     3|1276969740| 2.5595648|\n",
      "| 21531|    148|     3| 834035555| 3.0218282|\n",
      "| 38679|    148|     3| 853421750| 2.5657732|\n",
      "| 99684|    148|     3|1027645782| 2.9732146|\n",
      "| 35969|    148|     2| 835094487|  2.794639|\n",
      "| 54331|    148|     2| 954702916| 2.9416816|\n",
      "| 77130|    148|     1| 831284829| 1.1798544|\n",
      "| 29943|    148|     3|1049216998| 2.8596456|\n",
      "|117168|    148|     4| 835820190| 3.2516797|\n",
      "| 28229|    148|     1| 833850593| 2.6150947|\n",
      "| 31376|    148|     2| 901681963| 2.5119638|\n",
      "+------+-------+------+----------+----------+\n",
      "only showing top 20 rows\n",
      "\n"
     ]
    }
   ],
   "source": [
    "training_predictions_df.show()"
   ]
  },
  {
   "cell_type": "code",
   "execution_count": 63,
   "metadata": {
    "id": "bHgEU5ONhJmk"
   },
   "outputs": [],
   "source": [
    "from pyspark.ml.recommendation import ALSModel\n",
    "als_model.save(RESULTS_PATH+\"ALS_MovieLens_1\")\n",
    "als_model = ALSModel.load(RESULTS_PATH+\"ALS_MovieLens_1\")"
   ]
  },
  {
   "cell_type": "code",
   "execution_count": 64,
   "metadata": {
    "colab": {
     "base_uri": "https://localhost:8080/"
    },
    "id": "L9Ds24Bkh7KK",
    "outputId": "b866e395-cba6-4dd8-bac3-ab1939c089f0"
   },
   "outputs": [
    {
     "data": {
      "text/plain": [
       "0.8193309774106281"
      ]
     },
     "execution_count": 64,
     "metadata": {
      "tags": []
     },
     "output_type": "execute_result"
    }
   ],
   "source": [
    "reg_eval.evaluate(training_predictions_df)"
   ]
  },
  {
   "cell_type": "code",
   "execution_count": 49,
   "metadata": {
    "id": "cXWVXh32ifUp"
   },
   "outputs": [],
   "source": [
    "df_test = df_test.withColumn(\"userId\",df_test['userId'].cast(IntegerType())) \\\n",
    "                   .withColumn(\"movieId\",df_test['movieId'].cast(IntegerType())) \\\n",
    "                   .withColumn(\"rating\",df_test['rating'].cast(IntegerType()))"
   ]
  },
  {
   "cell_type": "code",
   "execution_count": 65,
   "metadata": {
    "id": "9rCpy3kBi-k8"
   },
   "outputs": [],
   "source": [
    "validation_predictions_df = als_model.transform(df_test)"
   ]
  },
  {
   "cell_type": "code",
   "execution_count": 66,
   "metadata": {
    "colab": {
     "base_uri": "https://localhost:8080/"
    },
    "id": "bqD10tRc7o5n",
    "outputId": "51896632-d735-41ba-f5f3-2f63878fb6e4"
   },
   "outputs": [
    {
     "name": "stdout",
     "output_type": "stream",
     "text": [
      "+------+-------+------+---------+----------+\n",
      "|userId|movieId|rating|timestamp|prediction|\n",
      "+------+-------+------+---------+----------+\n",
      "|     0|      0|     0|        0|         0|\n",
      "+------+-------+------+---------+----------+\n",
      "\n"
     ]
    }
   ],
   "source": [
    "validation_predictions_df.select([F.count(F.when(F.isnan(c), c)).alias(c) for c in validation_predictions_df.columns]).show()"
   ]
  },
  {
   "cell_type": "code",
   "execution_count": 67,
   "metadata": {
    "colab": {
     "base_uri": "https://localhost:8080/"
    },
    "id": "PTcaHdZMjjyz",
    "outputId": "aea64403-bfdd-4aa5-92ad-7c4e8ba7fa18"
   },
   "outputs": [
    {
     "name": "stdout",
     "output_type": "stream",
     "text": [
      "+------+-------+------+----------+----------+\n",
      "|userId|movieId|rating| timestamp|prediction|\n",
      "+------+-------+------+----------+----------+\n",
      "|     1|   1250|     4|1147868414| 3.3892672|\n",
      "|     1|   2161|     3|1147868609| 2.9195266|\n",
      "|     1|  27266|     4|1147879365| 3.3538353|\n",
      "|     1|   2843|     4|1147868891|   3.80054|\n",
      "|     1|    306|     3|1147868817| 4.1096406|\n",
      "|     1|   3448|     4|1147868480|  3.211211|\n",
      "|     1|   4308|     3|1147868534| 3.3079157|\n",
      "|     1|   4973|     4|1147869080|  3.985975|\n",
      "|     1|   5767|     5|1147878729| 3.6437132|\n",
      "|     1|   5912|     3|1147878698| 3.2279365|\n",
      "|     1|   5952|     4|1147868053| 3.3478596|\n",
      "|     1|   6016|     5|1147869090| 3.8530746|\n",
      "|     1|   6377|     4|1147868469|  3.213149|\n",
      "|     1|   6539|     3|1147868461| 2.9053173|\n",
      "|     1|   7234|     4|1147868869|  3.627199|\n",
      "|     1|   7361|     5|1147880055|  3.841207|\n",
      "|     1|   7938|     2|1147878063|  3.478118|\n",
      "|     1|   8154|     5|1147868865| 3.4568613|\n",
      "|    10|   1962|     3|1227570828| 2.7332594|\n",
      "|    10|   2915|     3|1227570836| 2.8876076|\n",
      "+------+-------+------+----------+----------+\n",
      "only showing top 20 rows\n",
      "\n"
     ]
    }
   ],
   "source": [
    "validation_predictions_df.show()"
   ]
  },
  {
   "cell_type": "code",
   "execution_count": 68,
   "metadata": {
    "colab": {
     "base_uri": "https://localhost:8080/"
    },
    "id": "1kJ6Rd60jhQw",
    "outputId": "6bfd77a1-dce1-4db7-c977-844423cd647b"
   },
   "outputs": [
    {
     "data": {
      "text/plain": [
       "0.8576732625272104"
      ]
     },
     "execution_count": 68,
     "metadata": {
      "tags": []
     },
     "output_type": "execute_result"
    }
   ],
   "source": [
    "reg_eval.evaluate(validation_predictions_df)"
   ]
  },
  {
   "cell_type": "code",
   "execution_count": 50,
   "metadata": {
    "colab": {
     "base_uri": "https://localhost:8080/"
    },
    "id": "mVbay9x7jqWb",
    "outputId": "79468897-71b7-4baf-f4d0-3061d00a0588"
   },
   "outputs": [
    {
     "data": {
      "text/plain": [
       "[('spark.driver.port', '38387'),\n",
       " ('spark.rdd.compress', 'True'),\n",
       " ('spark.driver.host', '9b3d0aaf19eb'),\n",
       " ('spark.serializer.objectStreamReset', '100'),\n",
       " ('spark.app.id', 'local-1607178844913'),\n",
       " ('spark.master', 'local[*]'),\n",
       " ('spark.executor.id', 'driver'),\n",
       " ('spark.app.name', 'BigDataProjectRecommendation'),\n",
       " ('spark.submit.deployMode', 'client'),\n",
       " ('spark.ui.showConsoleProgress', 'true')]"
      ]
     },
     "execution_count": 50,
     "metadata": {
      "tags": []
     },
     "output_type": "execute_result"
    }
   ],
   "source": [
    "spark.sparkContext._conf.getAll()"
   ]
  },
  {
   "cell_type": "code",
   "execution_count": 51,
   "metadata": {
    "colab": {
     "base_uri": "https://localhost:8080/",
     "height": 35
    },
    "id": "Hgv-6F4rrXox",
    "outputId": "69621f42-e427-493b-ba34-aee62fecfb63"
   },
   "outputs": [
    {
     "data": {
      "application/vnd.google.colaboratory.intrinsic+json": {
       "type": "string"
      },
      "text/plain": [
       "'2.4.7'"
      ]
     },
     "execution_count": 51,
     "metadata": {
      "tags": []
     },
     "output_type": "execute_result"
    }
   ],
   "source": [
    "spark.sparkContext.version"
   ]
  },
  {
   "cell_type": "code",
   "execution_count": 52,
   "metadata": {
    "id": "NDGyu3c-rbDb"
   },
   "outputs": [],
   "source": [
    "als=ALS()"
   ]
  },
  {
   "cell_type": "code",
   "execution_count": 53,
   "metadata": {
    "colab": {
     "base_uri": "https://localhost:8080/"
    },
    "id": "kH5AkDOysKoo",
    "outputId": "25aa1201-0928-4fee-cd29-d0fb1c97fa54"
   },
   "outputs": [
    {
     "data": {
      "text/plain": [
       "ALS_e1c9a006fcb0"
      ]
     },
     "execution_count": 53,
     "metadata": {
      "tags": []
     },
     "output_type": "execute_result"
    }
   ],
   "source": [
    "als.setColdStartStrategy('drop')"
   ]
  },
  {
   "cell_type": "code",
   "execution_count": 56,
   "metadata": {
    "colab": {
     "base_uri": "https://localhost:8080/"
    },
    "id": "S-Smw0KgsNaz",
    "outputId": "327f258f-1fa8-4763-a7db-5a2c9cc999b6"
   },
   "outputs": [
    {
     "data": {
      "text/plain": [
       "pyspark.ml.recommendation.ALSModel"
      ]
     },
     "execution_count": 56,
     "metadata": {
      "tags": []
     },
     "output_type": "execute_result"
    }
   ],
   "source": [
    "type(als_model)"
   ]
  },
  {
   "cell_type": "code",
   "execution_count": 57,
   "metadata": {
    "colab": {
     "base_uri": "https://localhost:8080/"
    },
    "id": "6U3qDWKhsu29",
    "outputId": "b5bdbfea-db54-4d7e-f6d0-e42da4f39abb"
   },
   "outputs": [
    {
     "data": {
      "text/plain": [
       "pyspark.ml.recommendation.ALS"
      ]
     },
     "execution_count": 57,
     "metadata": {
      "tags": []
     },
     "output_type": "execute_result"
    }
   ],
   "source": [
    "type(als)"
   ]
  },
  {
   "cell_type": "code",
   "execution_count": 37,
   "metadata": {
    "colab": {
     "base_uri": "https://localhost:8080/"
    },
    "id": "KlH9yDdrbgtY",
    "outputId": "4a4b0ed2-7cab-4bdb-e874-f725da374632"
   },
   "outputs": [
    {
     "name": "stdout",
     "output_type": "stream",
     "text": [
      "+-------+------+------+---------+--------------------+--------------------+\n",
      "|movieId|userId|rating|timestamp|               title|              genres|\n",
      "+-------+------+------+---------+--------------------+--------------------+\n",
      "|   1358|   100|   5.0|862169132|  Sling Blade (1996)|               Drama|\n",
      "|    781|   100|   5.0|862168912|Stealing Beauty (...|               Drama|\n",
      "|   1466|   100|   5.0|862169186|Donnie Brasco (1997)|         Crime|Drama|\n",
      "|   1233|   100|   5.0|862168955|Boot, Das (Boat, ...|    Action|Drama|War|\n",
      "|   1193|   100|   5.0|862169731|One Flew Over the...|               Drama|\n",
      "|    714|   100|   5.0|862169065|     Dead Man (1995)|Drama|Mystery|Wes...|\n",
      "|   1354|   100|   5.0|862169101|Breaking the Wave...|       Drama|Mystery|\n",
      "|    608|   100|   4.0|862168434|        Fargo (1996)|Comedy|Crime|Dram...|\n",
      "|   1210|   100|   4.0|862168580|Star Wars: Episod...|Action|Adventure|...|\n",
      "|     82|   100|   4.0|862168835|Antonia's Line (A...|        Comedy|Drama|\n",
      "|    290|   100|   4.0|862169537|Once Were Warrior...|         Crime|Drama|\n",
      "|    590|   100|   4.0|862169537|Dances with Wolve...|Adventure|Drama|W...|\n",
      "|     25|   100|   4.0|862168376|Leaving Las Vegas...|       Drama|Romance|\n",
      "|    213|   100|   4.0|862169731|Burnt by the Sun ...|               Drama|\n",
      "|    800|   100|   4.0|862168835|    Lone Star (1996)|Drama|Mystery|Wes...|\n",
      "|    541|   100|   4.0|862169537| Blade Runner (1982)|Action|Sci-Fi|Thr...|\n",
      "|     36|   100|   4.0|862168434|Dead Man Walking ...|         Crime|Drama|\n",
      "|    707|   100|   4.0|862168643|Mulholland Falls ...|Crime|Drama|Thriller|\n",
      "|     26|   100|   4.0|862168751|      Othello (1995)|               Drama|\n",
      "|    852|   100|   4.0|862168580|      Tin Cup (1996)|Comedy|Drama|Romance|\n",
      "+-------+------+------+---------+--------------------+--------------------+\n",
      "only showing top 20 rows\n",
      "\n"
     ]
    }
   ],
   "source": [
    "import pyspark.sql.functions as F\n",
    "ratings.filter(\"userId = 100\").join(movies, on = \"movieId\").orderBy(F.desc(\"rating\")).show()"
   ]
  },
  {
   "cell_type": "code",
   "execution_count": 69,
   "metadata": {
    "id": "WbX33nRhtF9B"
   },
   "outputs": [],
   "source": [
    "from pyspark.sql.types import DoubleType\n",
    "import numpy as np\n",
    "import scipy\n",
    "import scipy.spatial\n",
    "\n",
    "def distance(v1, v2):\n",
    "    v1 = np.array(v1)\n",
    "    v2 = np.array(v2)\n",
    "    return float(scipy.spatial.distance.cosine(v1, v2))\n",
    "\n",
    "spark.udf.register(\"distance\", distance, DoubleType())\n",
    "\n",
    "def recommendation_by_i2i(movie_id):\n",
    "    return (als_model\n",
    "     .itemFactors\n",
    "     .filter(F.col(\"id\") == movie_id)\n",
    "     .alias(\"t1\")\n",
    "     .crossJoin(als_model.itemFactors.alias(\"t2\"))\n",
    "     .withColumn(\"similarity\", F.expr(\"distance(t1.features, t2.features)\")) \n",
    "     .join(movies, F.col(\"t2.id\") == F.col(\"movieId\"))\n",
    "     .orderBy(F.asc(\"similarity\"))\n",
    "     .select(\"movieId\", \"title\", \"similarity\")\n",
    "    )"
   ]
  },
  {
   "cell_type": "code",
   "execution_count": 73,
   "metadata": {
    "colab": {
     "base_uri": "https://localhost:8080/"
    },
    "id": "eOAsawxL-CBC",
    "outputId": "ebe1a5d0-3734-4d8d-c523-2960ba139f7c"
   },
   "outputs": [
    {
     "name": "stdout",
     "output_type": "stream",
     "text": [
      "+-------+----------------------------------------------+--------------------+\n",
      "|movieId|title                                         |similarity          |\n",
      "+-------+----------------------------------------------+--------------------+\n",
      "|541    |Blade Runner (1982)                           |0.0                 |\n",
      "|1080   |Monty Python's Life of Brian (1979)           |0.012101173928981468|\n",
      "|73914  |Sometimes a Great Notion (1970)               |0.01240904214166283 |\n",
      "|6104   |Monty Python Live at the Hollywood Bowl (1982)|0.013113274085467697|\n",
      "|5965   |Duellists, The (1977)                         |0.013625690509695643|\n",
      "|1218   |Killer, The (Die xue shuang xiong) (1989)     |0.014535267911132355|\n",
      "|148288 |Who Am I This Time? (1982)                    |0.015166192408404777|\n",
      "|1136   |Monty Python and the Holy Grail (1975)        |0.015209555968390687|\n",
      "|145755 |The Dark Glow of the Mountain (1985)          |0.015227092839303014|\n",
      "|152292 |Mojin: The Lost Legend (2015)                 |0.01574341465655449 |\n",
      "|62049  |1984 (1956)                                   |0.016103574573950064|\n",
      "|6461   |Unforgiven, The (1960)                        |0.017456390540486644|\n",
      "|1214   |Alien (1979)                                  |0.01755678923504267 |\n",
      "|86318  |Goddess, The (1958)                           |0.017728778975932502|\n",
      "|924    |2001: A Space Odyssey (1968)                  |0.017867493902059994|\n",
      "|1233   |Boot, Das (Boat, The) (1981)                  |0.018440178775429916|\n",
      "|1208   |Apocalypse Now (1979)                         |0.018452899143339585|\n",
      "|158595 |Labyrinth (2002)                              |0.018827403110057483|\n",
      "|128127 |Commandos (1968)                              |0.018827404448030438|\n",
      "|150479 |The Battle of Sutjeska (1973)                 |0.018827404448030438|\n",
      "+-------+----------------------------------------------+--------------------+\n",
      "only showing top 20 rows\n",
      "\n"
     ]
    }
   ],
   "source": [
    "recommendation_by_i2i(541).show(20, False)"
   ]
  },
  {
   "cell_type": "code",
   "execution_count": 89,
   "metadata": {
    "colab": {
     "base_uri": "https://localhost:8080/"
    },
    "id": "XazttLq6D11S",
    "outputId": "51377e3a-1957-40c4-92ac-4bb5959d1e90"
   },
   "outputs": [
    {
     "name": "stdout",
     "output_type": "stream",
     "text": [
      "+------+-------+------+----------+\n",
      "|userId|movieId|rating| timestamp|\n",
      "+------+-------+------+----------+\n",
      "|     1|    296|   5.0|1147880044|\n",
      "|     1|    307|   5.0|1147868828|\n",
      "|     1|    665|   5.0|1147878820|\n",
      "|     1|   1088|   4.0|1147868495|\n",
      "|     1|   1237|   5.0|1147868839|\n",
      "|     1|   1250|   4.0|1147868414|\n",
      "|     1|   1653|   4.0|1147868097|\n",
      "|     1|   2351|   4.5|1147877957|\n",
      "|     1|   2573|   4.0|1147878923|\n",
      "|     1|   2632|   5.0|1147878248|\n",
      "|     1|   2692|   5.0|1147869100|\n",
      "|     1|   2843|   4.5|1147868891|\n",
      "|     1|   3448|   4.0|1147868480|\n",
      "|     1|   3569|   5.0|1147879603|\n",
      "|     1|   3949|   5.0|1147868678|\n",
      "|     1|   4144|   5.0|1147868898|\n",
      "|     1|   4325|   5.0|1147878122|\n",
      "|     1|   4703|   4.0|1147869223|\n",
      "|     1|   4973|   4.5|1147869080|\n",
      "|     1|   5147|   4.0|1147877654|\n",
      "|     1|   5767|   5.0|1147878729|\n",
      "|     1|   5878|   4.0|1147868807|\n",
      "|     1|   5952|   4.0|1147868053|\n",
      "|     1|   6016|   5.0|1147869090|\n",
      "|     1|   6370|   4.5|1147869191|\n",
      "|     1|   6377|   4.0|1147868469|\n",
      "|     1|   6711|   5.0|1147868622|\n",
      "|     1|   7209|   4.0|1147877986|\n",
      "|     1|   7234|   4.5|1147868869|\n",
      "|     1|   7361|   5.0|1147880055|\n",
      "|     1|   7365|   4.0|1147869033|\n",
      "|     1|   7940|   4.5|1147877967|\n",
      "|     1|   8154|   5.0|1147868865|\n",
      "|     1|   8327|   5.0|1147879375|\n",
      "|     1|   8360|   4.0|1147868682|\n",
      "|     1|   8786|   4.0|1147877853|\n",
      "|     1|   8973|   4.0|1147869211|\n",
      "|     1|  27266|   4.5|1147879365|\n",
      "|     1|  32591|   5.0|1147879538|\n",
      "|     2|    110|   5.0|1141416589|\n",
      "|     2|    150|   4.0|1141415790|\n",
      "|     2|    151|   4.5|1141415643|\n",
      "|     2|    236|   4.0|1141415659|\n",
      "|     2|    260|   5.0|1141417172|\n",
      "|     2|    318|   5.0|1141417181|\n",
      "|     2|    333|   5.0|1141415931|\n",
      "|     2|    349|   4.5|1141417045|\n",
      "|     2|    356|   4.5|1141416637|\n",
      "|     2|    364|   4.5|1141417077|\n",
      "|     2|    457|   5.0|1141416618|\n",
      "|     2|    497|   4.0|1141415566|\n",
      "|     2|    527|   5.0|1141415816|\n",
      "|     2|    534|   4.5|1141417814|\n",
      "|     2|    589|   4.0|1141416748|\n",
      "|     2|    733|   4.5|1141415905|\n",
      "|     2|    914|   4.0|1141417642|\n",
      "|     2|    953|   4.5|1141417487|\n",
      "|     2|   1136|   5.0|1141417950|\n",
      "|     2|   1196|   5.0|1141417198|\n",
      "|     2|   1197|   5.0|1141415874|\n",
      "|     2|   1198|   4.0|1141417032|\n",
      "|     2|   1210|   5.0|1141416665|\n",
      "|     2|   1246|   4.0|1141416793|\n",
      "|     2|   1257|   5.0|1141417313|\n",
      "|     2|   1270|   4.0|1141417013|\n",
      "|     2|   1275|   4.5|1141417237|\n",
      "|     2|   1283|   4.0|1141416205|\n",
      "|     2|   1287|   5.0|1141417140|\n",
      "|     2|   1291|   5.0|1141416603|\n",
      "|     2|   1293|   5.0|1141417937|\n",
      "|     2|   1356|   5.0|1141417272|\n",
      "|     2|   1374|   4.5|1141415576|\n",
      "|     2|   1376|   5.0|1141417402|\n",
      "|     2|   1393|   4.0|1141417243|\n",
      "|     2|   1488|   5.0|1141416185|\n",
      "|     2|   1580|   4.5|1141417059|\n",
      "|     2|   1584|   5.0|1141416806|\n",
      "|     2|   1610|   5.0|1141416601|\n",
      "|     2|   1653|   4.5|1141415586|\n",
      "|     2|   1672|   4.5|1141417310|\n",
      "|     2|   1674|   4.0|1141417397|\n",
      "|     2|   1682|   4.5|1141415845|\n",
      "|     2|   1693|   4.0|1141417194|\n",
      "|     2|   1873|   4.0|1141416788|\n",
      "|     2|   1907|   4.0|1141417054|\n",
      "|     2|   2028|   4.0|1141415840|\n",
      "|     2|   2083|   4.5|1141417581|\n",
      "|     2|   2138|   4.5|1141416899|\n",
      "|     2|   2139|   4.0|1141416834|\n",
      "|     2|   2150|   5.0|1141418008|\n",
      "|     2|   2194|   5.0|1141415685|\n",
      "|     2|   2268|   4.5|1141416973|\n",
      "|     2|   2294|   4.5|1141416879|\n",
      "|     2|   2355|   4.5|1141416727|\n",
      "|     2|   2359|   5.0|1141417423|\n",
      "|     2|   2470|   5.0|1141415787|\n",
      "|     2|   2496|   4.0|1141416084|\n",
      "|     2|   2501|   4.5|1141416992|\n",
      "|     2|   2571|   5.0|1141416743|\n",
      "|     2|   2617|   4.0|1141415674|\n",
      "+------+-------+------+----------+\n",
      "only showing top 100 rows\n",
      "\n"
     ]
    }
   ],
   "source": [
    "ratings.filter(\"rating = 4.0 or rating = 5.0 or rating = 4.5\").show(100)"
   ]
  },
  {
   "cell_type": "code",
   "execution_count": 91,
   "metadata": {
    "colab": {
     "base_uri": "https://localhost:8080/"
    },
    "id": "9qqpuYK0IF0-",
    "outputId": "b943a5ef-2492-46ac-d5ea-4742def80bec"
   },
   "outputs": [
    {
     "name": "stdout",
     "output_type": "stream",
     "text": [
      "+------+-----+\n",
      "|userId|count|\n",
      "+------+-----+\n",
      "|   296|   53|\n",
      "|   467|    5|\n",
      "|   675|   78|\n",
      "|   691|   46|\n",
      "|   829|   21|\n",
      "|  1090|   19|\n",
      "|  1159|   54|\n",
      "|  1436|  236|\n",
      "|  1512|   33|\n",
      "|  1572|   56|\n",
      "+------+-----+\n",
      "only showing top 10 rows\n",
      "\n"
     ]
    }
   ],
   "source": [
    "ratings.filter(\"rating = 4.0 or rating = 5.0 or rating = 4.5\").groupBy('userId').count().show(10)"
   ]
  },
  {
   "cell_type": "code",
   "execution_count": 72,
   "metadata": {
    "colab": {
     "base_uri": "https://localhost:8080/"
    },
    "id": "eNnk93aW-EPt",
    "outputId": "fcb2929f-fc85-4ffe-f139-2d275fd06b08"
   },
   "outputs": [
    {
     "name": "stdout",
     "output_type": "stream",
     "text": [
      "+------+--------------------+\n",
      "|userId|          top_movies|\n",
      "+------+--------------------+\n",
      "|100010|[647, 1047, 1, 60...|\n",
      "|100140|[2348, 2313, 1189...|\n",
      "|100227|[6, 3, 662, 62, 7...|\n",
      "|100263|[2105, 5995, 3300...|\n",
      "|100320|[6873, 1719, 2160...|\n",
      "|100553|[5995, 2160, 5679...|\n",
      "|100704|[74458, 4886, 412...|\n",
      "|100735|[110, 2000, 74458...|\n",
      "|100768|[41, 306, 1450, 1...|\n",
      "| 10096|[784, 832, 1, 839...|\n",
      "|100964|[62081, 48744, 13...|\n",
      "|101021|[2859, 858, 1950,...|\n",
      "|101122|[60069, 64614, 40...|\n",
      "|101205|[1, 352, 141, 307...|\n",
      "|101261|[33794, 37380, 43...|\n",
      "|101272|[189333, 140956, ...|\n",
      "|102113|[74458, 81845, 33...|\n",
      "|102521|[110, 350, 356, 2...|\n",
      "|102536|[3, 783, 1, 141, ...|\n",
      "|102539|[110, 185, 2231, ...|\n",
      "+------+--------------------+\n",
      "only showing top 20 rows\n",
      "\n"
     ]
    }
   ],
   "source": [
    "top_rated_movies_by_user = (ratings\n",
    "                            .filter(\"rating = 4 or rating = 5\")\n",
    "                            .groupBy(\"userId\")\n",
    "                            .agg(F.collect_set(\"movieId\").alias(\"top_movies\")))\n",
    "top_rated_movies_by_user.show()"
   ]
  },
  {
   "cell_type": "code",
   "execution_count": 94,
   "metadata": {
    "colab": {
     "base_uri": "https://localhost:8080/"
    },
    "id": "NWR9I51bCTL5",
    "outputId": "523ae3f5-e287-4725-e9a3-429e00cf0179"
   },
   "outputs": [
    {
     "name": "stdout",
     "output_type": "stream",
     "text": [
      "+------+--------------------+\n",
      "|userId|          top_movies|\n",
      "+------+--------------------+\n",
      "|     1|[4973, 5767, 6711...|\n",
      "|    10|[110, 356, 6502, ...|\n",
      "|   100|[781, 858, 213, 1...|\n",
      "|  1000|[4973, 1923, 1259...|\n",
      "| 10000|[110, 4973, 5995,...|\n",
      "|100000|[6870, 2840, 5995...|\n",
      "|100001|[101142, 317, 784...|\n",
      "|100002|[6867, 1225, 6947...|\n",
      "|100003|[1997, 1193, 3499...|\n",
      "|100004|[236, 141, 471, 1...|\n",
      "|100005|[110, 4886, 1, 19...|\n",
      "|100006|[110, 150, 296, 2...|\n",
      "|100007|[2105, 78218, 112...|\n",
      "|100008|[110, 551, 356, 5...|\n",
      "|100009|[2859, 2348, 429,...|\n",
      "| 10001|[55442, 90866, 42...|\n",
      "|100010|[647, 1047, 1, 60...|\n",
      "|100011|[44555, 1221, 487...|\n",
      "|100012|[110, 33794, 3578...|\n",
      "|100013|[367, 368, 589, 1...|\n",
      "+------+--------------------+\n",
      "only showing top 20 rows\n",
      "\n"
     ]
    }
   ],
   "source": [
    "top_rated_movies_by_user.sort(F.col('userId')).show()"
   ]
  },
  {
   "cell_type": "code",
   "execution_count": 103,
   "metadata": {
    "id": "x9oiyOpyFa1U"
   },
   "outputs": [],
   "source": [
    "def recommendation_by_u2u(user_id):\n",
    "    return (als_model\n",
    "     .userFactors\n",
    "     .filter(F.col(\"id\") == user_id)\n",
    "     .alias(\"t1\")\n",
    "     .crossJoin(als_model.itemFactors.alias(\"t2\"))\n",
    "     .withColumn(\"similarity\", F.expr(\"distance(t1.features, t2.features)\"))\n",
    "     .filter(\"similarity < 0.03 and similarity > 0.0\") # 0.02 Similarity threshold - a hyper parameter. We can perform tuning to find the suitable value\n",
    "     .join(top_rated_movies_by_user.alias(\"t3\"), F.col(\"t2.id\") == F.col(\"t3.userId\"))\n",
    "     .select(\"t1.id\", F.explode(\"top_movies\").alias(\"movieId\"))\n",
    "     .join(movies, on = \"movieId\")\n",
    "     .select(\"movieId\", \"title\")\n",
    "    )"
   ]
  },
  {
   "cell_type": "code",
   "execution_count": 106,
   "metadata": {
    "colab": {
     "base_uri": "https://localhost:8080/"
    },
    "id": "VoAeYSUQOdEA",
    "outputId": "28a37b55-ee10-4a3e-83d8-23c05f593318"
   },
   "outputs": [
    {
     "name": "stdout",
     "output_type": "stream",
     "text": [
      "+-------+------+------+----------+---------------------------------------------------------------------------------+-------------------------------------+\n",
      "|movieId|userId|rating|timestamp |title                                                                            |genres                               |\n",
      "+-------+------+------+----------+---------------------------------------------------------------------------------+-------------------------------------+\n",
      "|296    |1     |5.0   |1147880044|Pulp Fiction (1994)                                                              |Comedy|Crime|Drama|Thriller          |\n",
      "|306    |1     |3.5   |1147868817|Three Colors: Red (Trois couleurs: Rouge) (1994)                                 |Drama                                |\n",
      "|307    |1     |5.0   |1147868828|Three Colors: Blue (Trois couleurs: Bleu) (1993)                                 |Drama                                |\n",
      "|665    |1     |5.0   |1147878820|Underground (1995)                                                               |Comedy|Drama|War                     |\n",
      "|899    |1     |3.5   |1147868510|Singin' in the Rain (1952)                                                       |Comedy|Musical|Romance               |\n",
      "|1088   |1     |4.0   |1147868495|Dirty Dancing (1987)                                                             |Drama|Musical|Romance                |\n",
      "|1175   |1     |3.5   |1147868826|Delicatessen (1991)                                                              |Comedy|Drama|Romance                 |\n",
      "|1217   |1     |3.5   |1147878326|Ran (1985)                                                                       |Drama|War                            |\n",
      "|1237   |1     |5.0   |1147868839|Seventh Seal, The (Sjunde inseglet, Det) (1957)                                  |Drama                                |\n",
      "|1250   |1     |4.0   |1147868414|Bridge on the River Kwai, The (1957)                                             |Adventure|Drama|War                  |\n",
      "|1260   |1     |3.5   |1147877857|M (1931)                                                                         |Crime|Film-Noir|Thriller             |\n",
      "|1653   |1     |4.0   |1147868097|Gattaca (1997)                                                                   |Drama|Sci-Fi|Thriller                |\n",
      "|2011   |1     |2.5   |1147868079|Back to the Future Part II (1989)                                                |Adventure|Comedy|Sci-Fi              |\n",
      "|2012   |1     |2.5   |1147868068|Back to the Future Part III (1990)                                               |Adventure|Comedy|Sci-Fi|Western      |\n",
      "|2068   |1     |2.5   |1147869044|Fanny and Alexander (Fanny och Alexander) (1982)                                 |Drama|Fantasy|Mystery                |\n",
      "|2161   |1     |3.5   |1147868609|NeverEnding Story, The (1984)                                                    |Adventure|Children|Fantasy           |\n",
      "|2351   |1     |4.5   |1147877957|Nights of Cabiria (Notti di Cabiria, Le) (1957)                                  |Drama                                |\n",
      "|2573   |1     |4.0   |1147878923|Tango (1998)                                                                     |Drama|Musical                        |\n",
      "|2632   |1     |5.0   |1147878248|Saragossa Manuscript, The (Rekopis znaleziony w Saragossie) (1965)               |Adventure|Drama|Mystery              |\n",
      "|2692   |1     |5.0   |1147869100|Run Lola Run (Lola rennt) (1998)                                                 |Action|Crime                         |\n",
      "|2843   |1     |4.5   |1147868891|Black Cat, White Cat (Crna macka, beli macor) (1998)                             |Comedy|Romance                       |\n",
      "|3448   |1     |4.0   |1147868480|Good Morning, Vietnam (1987)                                                     |Comedy|Drama|War                     |\n",
      "|3569   |1     |5.0   |1147879603|Idiots, The (Idioterne) (1998)                                                   |Comedy|Drama                         |\n",
      "|3949   |1     |5.0   |1147868678|Requiem for a Dream (2000)                                                       |Drama                                |\n",
      "|4144   |1     |5.0   |1147868898|In the Mood For Love (Fa yeung nin wa) (2000)                                    |Drama|Romance                        |\n",
      "|4308   |1     |3.0   |1147868534|Moulin Rouge (2001)                                                              |Drama|Musical|Romance                |\n",
      "|4325   |1     |5.0   |1147878122|Night, The (Notte, La) (1960)                                                    |Drama                                |\n",
      "|4422   |1     |3.0   |1147869048|Cries and Whispers (Viskningar och rop) (1972)                                   |Drama                                |\n",
      "|4703   |1     |4.0   |1147869223|Chocolat (1988)                                                                  |Drama                                |\n",
      "|4973   |1     |4.5   |1147869080|Amelie (Fabuleux destin d'Amélie Poulain, Le) (2001)                             |Comedy|Romance                       |\n",
      "|5147   |1     |4.0   |1147877654|Wild Strawberries (Smultronstället) (1957)                                       |Drama                                |\n",
      "|5269   |1     |0.5   |1147879571|Piano Teacher, The (La pianiste) (2001)                                          |Drama                                |\n",
      "|5684   |1     |2.0   |1147879797|Naqoyqatsi (2002)                                                                |Documentary                          |\n",
      "|5767   |1     |5.0   |1147878729|Teddy Bear (Mis) (1981)                                                          |Comedy|Crime                         |\n",
      "|5878   |1     |4.0   |1147868807|Talk to Her (Hable con Ella) (2002)                                              |Drama|Romance                        |\n",
      "|5912   |1     |3.0   |1147878698|Hit the Bank (Vabank) (1981)                                                     |Comedy|Crime                         |\n",
      "|5952   |1     |4.0   |1147868053|Lord of the Rings: The Two Towers, The (2002)                                    |Adventure|Fantasy                    |\n",
      "|6016   |1     |5.0   |1147869090|City of God (Cidade de Deus) (2002)                                              |Action|Adventure|Crime|Drama|Thriller|\n",
      "|6370   |1     |4.5   |1147869191|Spanish Apartment, The (L'auberge espagnole) (2002)                              |Comedy|Drama|Romance                 |\n",
      "|6377   |1     |4.0   |1147868469|Finding Nemo (2003)                                                              |Adventure|Animation|Children|Comedy  |\n",
      "|6539   |1     |3.5   |1147868461|Pirates of the Caribbean: The Curse of the Black Pearl (2003)                    |Action|Adventure|Comedy|Fantasy      |\n",
      "|6711   |1     |5.0   |1147868622|Lost in Translation (2003)                                                       |Comedy|Drama|Romance                 |\n",
      "|6954   |1     |3.5   |1147869150|Barbarian Invasions, The (Les invasions barbares) (2003)                         |Comedy|Crime|Drama|Mystery|Romance   |\n",
      "|7209   |1     |4.0   |1147877986|M. Hulot’s Holiday (Mr. Hulot's Holiday) (Vacances de Monsieur Hulot, Les) (1953)|Comedy                               |\n",
      "|7234   |1     |4.5   |1147868869|Strada, La (1954)                                                                |Drama                                |\n",
      "|7318   |1     |2.0   |1147879850|Passion of the Christ, The (2004)                                                |Drama                                |\n",
      "|7323   |1     |3.5   |1147869119|Good bye, Lenin! (2003)                                                          |Comedy|Drama                         |\n",
      "|7327   |1     |3.5   |1147868855|Persona (1966)                                                                   |Drama                                |\n",
      "|7361   |1     |5.0   |1147880055|Eternal Sunshine of the Spotless Mind (2004)                                     |Drama|Romance|Sci-Fi                 |\n",
      "|7365   |1     |4.0   |1147869033|Noi the Albino (Nói albinói) (2003)                                              |Drama                                |\n",
      "+-------+------+------+----------+---------------------------------------------------------------------------------+-------------------------------------+\n",
      "only showing top 50 rows\n",
      "\n"
     ]
    }
   ],
   "source": [
    "ratings.join(movies,['movieId']).show(50,False)"
   ]
  },
  {
   "cell_type": "code",
   "execution_count": 112,
   "metadata": {
    "colab": {
     "base_uri": "https://localhost:8080/"
    },
    "id": "_54YEL7MOPFe",
    "outputId": "29363aad-59fd-4a98-b36d-29f5f9d45041",
    "scrolled": true
   },
   "outputs": [
    {
     "name": "stdout",
     "output_type": "stream",
     "text": [
      "+-------+---------------------------------------------------------+\n",
      "|movieId|title                                                    |\n",
      "+-------+---------------------------------------------------------+\n",
      "|2160   |Rosemary's Baby (1968)                                   |\n",
      "|1207   |To Kill a Mockingbird (1962)                             |\n",
      "|1215   |Army of Darkness (1993)                                  |\n",
      "|79132  |Inception (2010)                                         |\n",
      "|589    |Terminator 2: Judgment Day (1991)                        |\n",
      "|7445   |Man on Fire (2004)                                       |\n",
      "|87192  |Attack the Block (2011)                                  |\n",
      "|6385   |Whale Rider (2002)                                       |\n",
      "|179135 |Blue Planet II (2017)                                    |\n",
      "|2011   |Back to the Future Part II (1989)                        |\n",
      "|57274  |[REC] (2007)                                             |\n",
      "|64839  |Wrestler, The (2008)                                     |\n",
      "|2867   |Fright Night (1985)                                      |\n",
      "|103688 |Conjuring, The (2013)                                    |\n",
      "|194004 |Halloween (2018)                                         |\n",
      "|4993   |Lord of the Rings: The Fellowship of the Ring, The (2001)|\n",
      "|104841 |Gravity (2013)                                           |\n",
      "|187541 |Incredibles 2 (2018)                                     |\n",
      "|85788  |Insidious (2010)                                         |\n",
      "|99114  |Django Unchained (2012)                                  |\n",
      "+-------+---------------------------------------------------------+\n",
      "only showing top 20 rows\n",
      "\n"
     ]
    }
   ],
   "source": [
    "recommendation_by_u2u(1).show(20, False)"
   ]
  },
  {
   "cell_type": "code",
   "execution_count": 109,
   "metadata": {
    "id": "rG3QGegPPEFq"
   },
   "outputs": [],
   "source": [
    "ratings = ratings.withColumn(\"userId\",ratings['userId'].cast(IntegerType())) \\\n",
    "                   .withColumn(\"movieId\",ratings['movieId'].cast(IntegerType())) \\\n",
    "                   .withColumn(\"rating\",ratings['rating'].cast(IntegerType()))\n",
    "predictions=als_model.transform(ratings)\n",
    "predictions.createOrReplaceTempView(\"predictions_sql\")\n",
    "movies.createOrReplaceTempView(\"movies_sql\")"
   ]
  },
  {
   "cell_type": "code",
   "execution_count": 111,
   "metadata": {
    "colab": {
     "base_uri": "https://localhost:8080/"
    },
    "id": "152ZufYHUFXi",
    "outputId": "bf17ecc0-537e-47ef-deaa-b0904f03ad3c"
   },
   "outputs": [
    {
     "name": "stdout",
     "output_type": "stream",
     "text": [
      "+------+-------+------+----------+----------------------------------------------------------------------------------------+-------------------------------------+\n",
      "|userId|movieId|rating|prediction|title                                                                                   |genres                               |\n",
      "+------+-------+------+----------+----------------------------------------------------------------------------------------+-------------------------------------+\n",
      "|1     |306    |3     |4.1096406 |Three Colors: Red (Trois couleurs: Rouge) (1994)                                        |Drama                                |\n",
      "|1     |307    |5     |4.0995245 |Three Colors: Blue (Trois couleurs: Bleu) (1993)                                        |Drama                                |\n",
      "|1     |296    |5     |4.0422907 |Pulp Fiction (1994)                                                                     |Comedy|Crime|Drama|Thriller          |\n",
      "|1     |4973   |4     |3.985975  |Amelie (Fabuleux destin d'Amélie Poulain, Le) (2001)                                    |Comedy|Romance                       |\n",
      "|1     |665    |5     |3.8845673 |Underground (1995)                                                                      |Comedy|Drama|War                     |\n",
      "|1     |6016   |5     |3.8530746 |City of God (Cidade de Deus) (2002)                                                     |Action|Adventure|Crime|Drama|Thriller|\n",
      "|1     |7361   |5     |3.841207  |Eternal Sunshine of the Spotless Mind (2004)                                            |Drama|Romance|Sci-Fi                 |\n",
      "|1     |3949   |5     |3.8231428 |Requiem for a Dream (2000)                                                              |Drama                                |\n",
      "|1     |2843   |4     |3.80054   |Black Cat, White Cat (Crna macka, beli macor) (1998)                                    |Comedy|Romance                       |\n",
      "|1     |5878   |4     |3.7910283 |Talk to Her (Hable con Ella) (2002)                                                     |Drama|Romance                        |\n",
      "|1     |8014   |3     |3.7812328 |Spring, Summer, Fall, Winter... and Spring (Bom yeoreum gaeul gyeoul geurigo bom) (2003)|Drama                                |\n",
      "|1     |2351   |4     |3.734074  |Nights of Cabiria (Notti di Cabiria, Le) (1957)                                         |Drama                                |\n",
      "|1     |1175   |3     |3.733309  |Delicatessen (1991)                                                                     |Comedy|Drama|Romance                 |\n",
      "|1     |2692   |5     |3.7194128 |Run Lola Run (Lola rennt) (1998)                                                        |Action|Crime                         |\n",
      "|1     |4144   |5     |3.7120512 |In the Mood For Love (Fa yeung nin wa) (2000)                                           |Drama|Romance                        |\n",
      "|1     |2068   |2     |3.695225  |Fanny and Alexander (Fanny och Alexander) (1982)                                        |Drama|Fantasy|Mystery                |\n",
      "|1     |6954   |3     |3.6941934 |Barbarian Invasions, The (Les invasions barbares) (2003)                                |Comedy|Crime|Drama|Mystery|Romance   |\n",
      "|1     |7323   |3     |3.690628  |Good bye, Lenin! (2003)                                                                 |Comedy|Drama                         |\n",
      "|1     |1237   |5     |3.682242  |Seventh Seal, The (Sjunde inseglet, Det) (1957)                                         |Drama                                |\n",
      "|1     |1217   |3     |3.6799335 |Ran (1985)                                                                              |Drama|War                            |\n",
      "+------+-------+------+----------+----------------------------------------------------------------------------------------+-------------------------------------+\n",
      "only showing top 20 rows\n",
      "\n"
     ]
    }
   ],
   "source": [
    "spark.sql(\n",
    "\"\"\"select p.userId, p.movieId, p.rating, p.prediction, m.title, m.genres\n",
    "from predictions_sql p\n",
    "join movies_sql m on p.movieId=m.movieId\n",
    "where p.userId == 1\n",
    "order by p.prediction desc\n",
    "\"\"\").show(20,False)"
   ]
  },
  {
   "cell_type": "code",
   "execution_count": 48,
   "metadata": {
    "colab": {
     "base_uri": "https://localhost:8080/"
    },
    "id": "1y5eDs83aHsF",
    "outputId": "046a25c8-20ab-48c9-ee8d-088fd89bef94"
   },
   "outputs": [
    {
     "name": "stdout",
     "output_type": "stream",
     "text": [
      "+-------------------------------------+------+\n",
      "|title                                |rating|\n",
      "+-------------------------------------+------+\n",
      "|Foster (2018)                        |null  |\n",
      "|The Thorn (1971)                     |null  |\n",
      "|Hoaxed (2019)                        |null  |\n",
      "|My Best Enemy (2006)                 |null  |\n",
      "|The Challengers (1990)               |null  |\n",
      "|Fracchia la belva umana (1981)       |null  |\n",
      "|La leggenda di Al, John e Jack (2002)|null  |\n",
      "|Heroes Above All (2017)              |null  |\n",
      "|Of Two Minds (2012)                  |null  |\n",
      "|King for a Day (1983)                |null  |\n",
      "+-------------------------------------+------+\n",
      "only showing top 10 rows\n",
      "\n",
      "CPU times: user 149 ms, sys: 42.2 ms, total: 191 ms\n",
      "Wall time: 12min 52s\n"
     ]
    }
   ],
   "source": [
    "%%time\n",
    "predictionsPerso = resultsALS.filter(F.col(\"userId\")==0) \\\n",
    "                             .select(F.explode(\"predictions\") \\\n",
    "                             .alias(\"movieId\")) \\\n",
    "                             .join(dfMovies.select([\"movieId\", \"title\"]),\n",
    "                                   \"movieId\") \\\n",
    "                             .join(dfRatings.filter(F.col(\"userId\")==0),\n",
    "                                   ['movieId'], how='left')\n",
    "\n",
    "predictionsPerso.select([\"title\", \"rating\"]).show(10, truncate=False)"
   ]
  },
  {
   "cell_type": "code",
   "execution_count": null,
   "metadata": {},
   "outputs": [],
   "source": [
    "%%time\n",
    "predictionsPerso = resultsALS.filter(F.col(\"userId\")==0) \\\n",
    "                             .select(F.explode(\"predictions\") \\\n",
    "                             .alias(\"movieId\")) \\\n",
    "                             .join(dfMovies.select([\"movieId\", \"title\"]),\n",
    "                                   \"movieId\") \\\n",
    "                             .join(dfRatings.filter(F.col(\"userId\")==0),\n",
    "                                   ['movieId'], how='left')\n",
    "\n",
    "predictionsPerso.select([\"title\", \"rating\"]).show(10, truncate=False)"
   ]
  }
 ],
 "metadata": {
  "colab": {
   "collapsed_sections": [],
   "name": "BigDataALS.ipynb",
   "provenance": []
  },
  "kernelspec": {
   "display_name": "Python 3",
   "language": "python",
   "name": "python3"
  },
  "language_info": {
   "codemirror_mode": {
    "name": "ipython",
    "version": 3
   },
   "file_extension": ".py",
   "mimetype": "text/x-python",
   "name": "python",
   "nbconvert_exporter": "python",
   "pygments_lexer": "ipython3",
   "version": "3.8.6"
  }
 },
 "nbformat": 4,
 "nbformat_minor": 1
}
